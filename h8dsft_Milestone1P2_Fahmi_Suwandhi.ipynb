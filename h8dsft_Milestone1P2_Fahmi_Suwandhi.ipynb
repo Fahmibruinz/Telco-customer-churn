{
  "nbformat": 4,
  "nbformat_minor": 0,
  "metadata": {
    "colab": {
      "name": "h8dsft_Milestone1P2_Fahmi_Suwandhi.ipynb",
      "provenance": [],
      "collapsed_sections": [
        "5dvnEwuYESrY",
        "gfhdPQgqEzY7",
        "UgnWVh2TFNHU",
        "rY7Vr5pppooo",
        "msW1Lj9-p3Ja",
        "t9iMw8WUGbqD",
        "y7rl0hdSqBw4",
        "xRITFZaPqRKs",
        "clJG2mOSqX6Q",
        "SugCrPf0nNbp",
        "7r9oARUA3IuM",
        "ToJ9uIL-qfUi",
        "_r9f3NMMqoGS"
      ]
    },
    "kernelspec": {
      "name": "python3",
      "display_name": "Python 3"
    },
    "language_info": {
      "name": "python"
    }
  },
  "cells": [
    {
      "cell_type": "markdown",
      "source": [
        "#    1. Perkenalan"
      ],
      "metadata": {
        "id": "5dvnEwuYESrY"
      }
    },
    {
      "cell_type": "markdown",
      "source": [
        "> Bab pengenalan harus diisi dengan identitas, gambaran besar dataset yang digunakan, dan *objective* yang ingin dicapai."
      ],
      "metadata": {
        "id": "9Gu2GEuuEHMo"
      }
    },
    {
      "cell_type": "markdown",
      "source": [
        "- Nama : Fahmi Suwandhi\n",
        "- Batch : 10"
      ],
      "metadata": {
        "id": "PwYwYNe7ErFz"
      }
    },
    {
      "cell_type": "markdown",
      "source": [
        "# 2. Import Libraries"
      ],
      "metadata": {
        "id": "gfhdPQgqEzY7"
      }
    },
    {
      "cell_type": "markdown",
      "source": [
        "> *Cell* pertama pada *notebook* **harus berisi dan hanya berisi** semua *library* yang digunakan dalam *project*."
      ],
      "metadata": {
        "id": "fsKCP6fDE9EV"
      }
    },
    {
      "cell_type": "code",
      "source": [
        "import numpy as np\n",
        "import pandas as pd\n",
        "%matplotlib inline\n",
        "import matplotlib.pyplot as plt\n",
        "import seaborn as sns\n",
        "import warnings\n",
        "warnings.filterwarnings('ignore')\n",
        "\n",
        "# Library Input missing Value\n",
        "from sklearn.impute import SimpleImputer\n",
        "\n",
        "# Library Splitting Data\n",
        "from sklearn.model_selection import train_test_split\n",
        "\n",
        "# Feature Encoding\n",
        "from sklearn.preprocessing import LabelEncoder\n",
        "\n",
        "# Feature Scaling using MinMaxScaler\n",
        "from sklearn.preprocessing import MinMaxScaler, StandardScaler\n",
        "\n",
        "#Feature Encoding using OneHoTEncoder\n",
        "from sklearn.preprocessing import OneHotEncoder\n",
        "\n",
        "# sequential API\n",
        "from tensorflow.keras.models import Sequential\n",
        "from tensorflow.keras.layers import Dense\n",
        "\n",
        "from tensorflow.keras.models import Model, load_model\n",
        "from tensorflow.keras.layers import Input, Dense, Flatten, Dropout\n",
        "import tensorflow as tf\n",
        "from tensorflow import keras\n",
        "\n",
        "# Pipeline\n",
        "from sklearn.pipeline import make_pipeline\n",
        "from sklearn.compose import ColumnTransformer\n",
        "import pickle\n",
        "\n",
        "# Features Model\n",
        "from sklearn.svm import SVC\n",
        "from sklearn.linear_model import LogisticRegression\n",
        "from sklearn.ensemble import RandomForestClassifier\n",
        "\n",
        "# Metrics\n",
        "from sklearn.metrics import accuracy_score, classification_report, r2_score, mean_absolute_error, mean_squared_error, mean_absolute_percentage_error"
      ],
      "metadata": {
        "id": "cj0OCOeQE8Eq"
      },
      "execution_count": null,
      "outputs": []
    },
    {
      "cell_type": "markdown",
      "source": [
        "# 3. Data Loading"
      ],
      "metadata": {
        "id": "UgnWVh2TFNHU"
      }
    },
    {
      "cell_type": "markdown",
      "source": [
        "> Bagian ini berisi proses penyiapan data sebelum dilakukan eksplorasi data lebih lanjut. Proses Data Loading dapat berupa memberi nama baru untuk setiap kolom, mengecek ukuran dataset, dll."
      ],
      "metadata": {
        "id": "16wybGvrFQ9J"
      }
    },
    {
      "cell_type": "code",
      "source": [
        "df = pd.read_csv('Telco-Customer-Churn.csv')\n",
        "df.head().T"
      ],
      "metadata": {
        "id": "64F2zdISFroj",
        "colab": {
          "base_uri": "https://localhost:8080/",
          "height": 708
        },
        "outputId": "2b089c6b-8052-4fa8-a529-6efdb8a7e2b8"
      },
      "execution_count": null,
      "outputs": [
        {
          "output_type": "execute_result",
          "data": {
            "text/plain": [
              "                                 0             1               2  \\\n",
              "customerID              7590-VHVEG    5575-GNVDE      3668-QPYBK   \n",
              "gender                      Female          Male            Male   \n",
              "SeniorCitizen                    0             0               0   \n",
              "Partner                        Yes            No              No   \n",
              "Dependents                      No            No              No   \n",
              "tenure                           1            34               2   \n",
              "PhoneService                    No           Yes             Yes   \n",
              "MultipleLines     No phone service            No              No   \n",
              "InternetService                DSL           DSL             DSL   \n",
              "OnlineSecurity                  No           Yes             Yes   \n",
              "OnlineBackup                   Yes            No             Yes   \n",
              "DeviceProtection                No           Yes              No   \n",
              "TechSupport                     No            No              No   \n",
              "StreamingTV                     No            No              No   \n",
              "StreamingMovies                 No            No              No   \n",
              "Contract            Month-to-month      One year  Month-to-month   \n",
              "PaperlessBilling               Yes            No             Yes   \n",
              "PaymentMethod     Electronic check  Mailed check    Mailed check   \n",
              "MonthlyCharges               29.85         56.95           53.85   \n",
              "TotalCharges                 29.85        1889.5          108.15   \n",
              "Churn                           No            No             Yes   \n",
              "\n",
              "                                          3                 4  \n",
              "customerID                       7795-CFOCW        9237-HQITU  \n",
              "gender                                 Male            Female  \n",
              "SeniorCitizen                             0                 0  \n",
              "Partner                                  No                No  \n",
              "Dependents                               No                No  \n",
              "tenure                                   45                 2  \n",
              "PhoneService                             No               Yes  \n",
              "MultipleLines              No phone service                No  \n",
              "InternetService                         DSL       Fiber optic  \n",
              "OnlineSecurity                          Yes                No  \n",
              "OnlineBackup                             No                No  \n",
              "DeviceProtection                        Yes                No  \n",
              "TechSupport                             Yes                No  \n",
              "StreamingTV                              No                No  \n",
              "StreamingMovies                          No                No  \n",
              "Contract                           One year    Month-to-month  \n",
              "PaperlessBilling                         No               Yes  \n",
              "PaymentMethod     Bank transfer (automatic)  Electronic check  \n",
              "MonthlyCharges                         42.3              70.7  \n",
              "TotalCharges                        1840.75            151.65  \n",
              "Churn                                    No               Yes  "
            ],
            "text/html": [
              "\n",
              "  <div id=\"df-ff647747-1a34-49ab-a4a3-a9b3cce15007\">\n",
              "    <div class=\"colab-df-container\">\n",
              "      <div>\n",
              "<style scoped>\n",
              "    .dataframe tbody tr th:only-of-type {\n",
              "        vertical-align: middle;\n",
              "    }\n",
              "\n",
              "    .dataframe tbody tr th {\n",
              "        vertical-align: top;\n",
              "    }\n",
              "\n",
              "    .dataframe thead th {\n",
              "        text-align: right;\n",
              "    }\n",
              "</style>\n",
              "<table border=\"1\" class=\"dataframe\">\n",
              "  <thead>\n",
              "    <tr style=\"text-align: right;\">\n",
              "      <th></th>\n",
              "      <th>0</th>\n",
              "      <th>1</th>\n",
              "      <th>2</th>\n",
              "      <th>3</th>\n",
              "      <th>4</th>\n",
              "    </tr>\n",
              "  </thead>\n",
              "  <tbody>\n",
              "    <tr>\n",
              "      <th>customerID</th>\n",
              "      <td>7590-VHVEG</td>\n",
              "      <td>5575-GNVDE</td>\n",
              "      <td>3668-QPYBK</td>\n",
              "      <td>7795-CFOCW</td>\n",
              "      <td>9237-HQITU</td>\n",
              "    </tr>\n",
              "    <tr>\n",
              "      <th>gender</th>\n",
              "      <td>Female</td>\n",
              "      <td>Male</td>\n",
              "      <td>Male</td>\n",
              "      <td>Male</td>\n",
              "      <td>Female</td>\n",
              "    </tr>\n",
              "    <tr>\n",
              "      <th>SeniorCitizen</th>\n",
              "      <td>0</td>\n",
              "      <td>0</td>\n",
              "      <td>0</td>\n",
              "      <td>0</td>\n",
              "      <td>0</td>\n",
              "    </tr>\n",
              "    <tr>\n",
              "      <th>Partner</th>\n",
              "      <td>Yes</td>\n",
              "      <td>No</td>\n",
              "      <td>No</td>\n",
              "      <td>No</td>\n",
              "      <td>No</td>\n",
              "    </tr>\n",
              "    <tr>\n",
              "      <th>Dependents</th>\n",
              "      <td>No</td>\n",
              "      <td>No</td>\n",
              "      <td>No</td>\n",
              "      <td>No</td>\n",
              "      <td>No</td>\n",
              "    </tr>\n",
              "    <tr>\n",
              "      <th>tenure</th>\n",
              "      <td>1</td>\n",
              "      <td>34</td>\n",
              "      <td>2</td>\n",
              "      <td>45</td>\n",
              "      <td>2</td>\n",
              "    </tr>\n",
              "    <tr>\n",
              "      <th>PhoneService</th>\n",
              "      <td>No</td>\n",
              "      <td>Yes</td>\n",
              "      <td>Yes</td>\n",
              "      <td>No</td>\n",
              "      <td>Yes</td>\n",
              "    </tr>\n",
              "    <tr>\n",
              "      <th>MultipleLines</th>\n",
              "      <td>No phone service</td>\n",
              "      <td>No</td>\n",
              "      <td>No</td>\n",
              "      <td>No phone service</td>\n",
              "      <td>No</td>\n",
              "    </tr>\n",
              "    <tr>\n",
              "      <th>InternetService</th>\n",
              "      <td>DSL</td>\n",
              "      <td>DSL</td>\n",
              "      <td>DSL</td>\n",
              "      <td>DSL</td>\n",
              "      <td>Fiber optic</td>\n",
              "    </tr>\n",
              "    <tr>\n",
              "      <th>OnlineSecurity</th>\n",
              "      <td>No</td>\n",
              "      <td>Yes</td>\n",
              "      <td>Yes</td>\n",
              "      <td>Yes</td>\n",
              "      <td>No</td>\n",
              "    </tr>\n",
              "    <tr>\n",
              "      <th>OnlineBackup</th>\n",
              "      <td>Yes</td>\n",
              "      <td>No</td>\n",
              "      <td>Yes</td>\n",
              "      <td>No</td>\n",
              "      <td>No</td>\n",
              "    </tr>\n",
              "    <tr>\n",
              "      <th>DeviceProtection</th>\n",
              "      <td>No</td>\n",
              "      <td>Yes</td>\n",
              "      <td>No</td>\n",
              "      <td>Yes</td>\n",
              "      <td>No</td>\n",
              "    </tr>\n",
              "    <tr>\n",
              "      <th>TechSupport</th>\n",
              "      <td>No</td>\n",
              "      <td>No</td>\n",
              "      <td>No</td>\n",
              "      <td>Yes</td>\n",
              "      <td>No</td>\n",
              "    </tr>\n",
              "    <tr>\n",
              "      <th>StreamingTV</th>\n",
              "      <td>No</td>\n",
              "      <td>No</td>\n",
              "      <td>No</td>\n",
              "      <td>No</td>\n",
              "      <td>No</td>\n",
              "    </tr>\n",
              "    <tr>\n",
              "      <th>StreamingMovies</th>\n",
              "      <td>No</td>\n",
              "      <td>No</td>\n",
              "      <td>No</td>\n",
              "      <td>No</td>\n",
              "      <td>No</td>\n",
              "    </tr>\n",
              "    <tr>\n",
              "      <th>Contract</th>\n",
              "      <td>Month-to-month</td>\n",
              "      <td>One year</td>\n",
              "      <td>Month-to-month</td>\n",
              "      <td>One year</td>\n",
              "      <td>Month-to-month</td>\n",
              "    </tr>\n",
              "    <tr>\n",
              "      <th>PaperlessBilling</th>\n",
              "      <td>Yes</td>\n",
              "      <td>No</td>\n",
              "      <td>Yes</td>\n",
              "      <td>No</td>\n",
              "      <td>Yes</td>\n",
              "    </tr>\n",
              "    <tr>\n",
              "      <th>PaymentMethod</th>\n",
              "      <td>Electronic check</td>\n",
              "      <td>Mailed check</td>\n",
              "      <td>Mailed check</td>\n",
              "      <td>Bank transfer (automatic)</td>\n",
              "      <td>Electronic check</td>\n",
              "    </tr>\n",
              "    <tr>\n",
              "      <th>MonthlyCharges</th>\n",
              "      <td>29.85</td>\n",
              "      <td>56.95</td>\n",
              "      <td>53.85</td>\n",
              "      <td>42.3</td>\n",
              "      <td>70.7</td>\n",
              "    </tr>\n",
              "    <tr>\n",
              "      <th>TotalCharges</th>\n",
              "      <td>29.85</td>\n",
              "      <td>1889.5</td>\n",
              "      <td>108.15</td>\n",
              "      <td>1840.75</td>\n",
              "      <td>151.65</td>\n",
              "    </tr>\n",
              "    <tr>\n",
              "      <th>Churn</th>\n",
              "      <td>No</td>\n",
              "      <td>No</td>\n",
              "      <td>Yes</td>\n",
              "      <td>No</td>\n",
              "      <td>Yes</td>\n",
              "    </tr>\n",
              "  </tbody>\n",
              "</table>\n",
              "</div>\n",
              "      <button class=\"colab-df-convert\" onclick=\"convertToInteractive('df-ff647747-1a34-49ab-a4a3-a9b3cce15007')\"\n",
              "              title=\"Convert this dataframe to an interactive table.\"\n",
              "              style=\"display:none;\">\n",
              "        \n",
              "  <svg xmlns=\"http://www.w3.org/2000/svg\" height=\"24px\"viewBox=\"0 0 24 24\"\n",
              "       width=\"24px\">\n",
              "    <path d=\"M0 0h24v24H0V0z\" fill=\"none\"/>\n",
              "    <path d=\"M18.56 5.44l.94 2.06.94-2.06 2.06-.94-2.06-.94-.94-2.06-.94 2.06-2.06.94zm-11 1L8.5 8.5l.94-2.06 2.06-.94-2.06-.94L8.5 2.5l-.94 2.06-2.06.94zm10 10l.94 2.06.94-2.06 2.06-.94-2.06-.94-.94-2.06-.94 2.06-2.06.94z\"/><path d=\"M17.41 7.96l-1.37-1.37c-.4-.4-.92-.59-1.43-.59-.52 0-1.04.2-1.43.59L10.3 9.45l-7.72 7.72c-.78.78-.78 2.05 0 2.83L4 21.41c.39.39.9.59 1.41.59.51 0 1.02-.2 1.41-.59l7.78-7.78 2.81-2.81c.8-.78.8-2.07 0-2.86zM5.41 20L4 18.59l7.72-7.72 1.47 1.35L5.41 20z\"/>\n",
              "  </svg>\n",
              "      </button>\n",
              "      \n",
              "  <style>\n",
              "    .colab-df-container {\n",
              "      display:flex;\n",
              "      flex-wrap:wrap;\n",
              "      gap: 12px;\n",
              "    }\n",
              "\n",
              "    .colab-df-convert {\n",
              "      background-color: #E8F0FE;\n",
              "      border: none;\n",
              "      border-radius: 50%;\n",
              "      cursor: pointer;\n",
              "      display: none;\n",
              "      fill: #1967D2;\n",
              "      height: 32px;\n",
              "      padding: 0 0 0 0;\n",
              "      width: 32px;\n",
              "    }\n",
              "\n",
              "    .colab-df-convert:hover {\n",
              "      background-color: #E2EBFA;\n",
              "      box-shadow: 0px 1px 2px rgba(60, 64, 67, 0.3), 0px 1px 3px 1px rgba(60, 64, 67, 0.15);\n",
              "      fill: #174EA6;\n",
              "    }\n",
              "\n",
              "    [theme=dark] .colab-df-convert {\n",
              "      background-color: #3B4455;\n",
              "      fill: #D2E3FC;\n",
              "    }\n",
              "\n",
              "    [theme=dark] .colab-df-convert:hover {\n",
              "      background-color: #434B5C;\n",
              "      box-shadow: 0px 1px 3px 1px rgba(0, 0, 0, 0.15);\n",
              "      filter: drop-shadow(0px 1px 2px rgba(0, 0, 0, 0.3));\n",
              "      fill: #FFFFFF;\n",
              "    }\n",
              "  </style>\n",
              "\n",
              "      <script>\n",
              "        const buttonEl =\n",
              "          document.querySelector('#df-ff647747-1a34-49ab-a4a3-a9b3cce15007 button.colab-df-convert');\n",
              "        buttonEl.style.display =\n",
              "          google.colab.kernel.accessAllowed ? 'block' : 'none';\n",
              "\n",
              "        async function convertToInteractive(key) {\n",
              "          const element = document.querySelector('#df-ff647747-1a34-49ab-a4a3-a9b3cce15007');\n",
              "          const dataTable =\n",
              "            await google.colab.kernel.invokeFunction('convertToInteractive',\n",
              "                                                     [key], {});\n",
              "          if (!dataTable) return;\n",
              "\n",
              "          const docLinkHtml = 'Like what you see? Visit the ' +\n",
              "            '<a target=\"_blank\" href=https://colab.research.google.com/notebooks/data_table.ipynb>data table notebook</a>'\n",
              "            + ' to learn more about interactive tables.';\n",
              "          element.innerHTML = '';\n",
              "          dataTable['output_type'] = 'display_data';\n",
              "          await google.colab.output.renderOutput(dataTable, element);\n",
              "          const docLink = document.createElement('div');\n",
              "          docLink.innerHTML = docLinkHtml;\n",
              "          element.appendChild(docLink);\n",
              "        }\n",
              "      </script>\n",
              "    </div>\n",
              "  </div>\n",
              "  "
            ]
          },
          "metadata": {},
          "execution_count": 174
        }
      ]
    },
    {
      "cell_type": "code",
      "source": [
        "df.info()"
      ],
      "metadata": {
        "id": "4h76S4fOLKxm",
        "colab": {
          "base_uri": "https://localhost:8080/"
        },
        "outputId": "c846657b-98aa-4b00-c92d-609316c2efb9"
      },
      "execution_count": null,
      "outputs": [
        {
          "output_type": "stream",
          "name": "stdout",
          "text": [
            "<class 'pandas.core.frame.DataFrame'>\n",
            "RangeIndex: 7043 entries, 0 to 7042\n",
            "Data columns (total 21 columns):\n",
            " #   Column            Non-Null Count  Dtype  \n",
            "---  ------            --------------  -----  \n",
            " 0   customerID        7043 non-null   object \n",
            " 1   gender            7043 non-null   object \n",
            " 2   SeniorCitizen     7043 non-null   int64  \n",
            " 3   Partner           7043 non-null   object \n",
            " 4   Dependents        7043 non-null   object \n",
            " 5   tenure            7043 non-null   int64  \n",
            " 6   PhoneService      7043 non-null   object \n",
            " 7   MultipleLines     7043 non-null   object \n",
            " 8   InternetService   7043 non-null   object \n",
            " 9   OnlineSecurity    7043 non-null   object \n",
            " 10  OnlineBackup      7043 non-null   object \n",
            " 11  DeviceProtection  7043 non-null   object \n",
            " 12  TechSupport       7043 non-null   object \n",
            " 13  StreamingTV       7043 non-null   object \n",
            " 14  StreamingMovies   7043 non-null   object \n",
            " 15  Contract          7043 non-null   object \n",
            " 16  PaperlessBilling  7043 non-null   object \n",
            " 17  PaymentMethod     7043 non-null   object \n",
            " 18  MonthlyCharges    7043 non-null   float64\n",
            " 19  TotalCharges      7043 non-null   object \n",
            " 20  Churn             7043 non-null   object \n",
            "dtypes: float64(1), int64(2), object(18)\n",
            "memory usage: 1.1+ MB\n"
          ]
        }
      ]
    },
    {
      "cell_type": "markdown",
      "source": [
        "- Exp :\n",
        "  > - Dari df.info kita dapat melihat dataset ini memiliki 7043 baris dan 20 kolom\n",
        "  > - Pada kolom total charges terlihat tipe data object, kita akan merubah nya nanti ke dalam bentuk float\n",
        "  > - Jika dilihat pada dataset ini tidak memiliki missing value"
      ],
      "metadata": {
        "id": "k5L7_uG2N8YA"
      }
    },
    {
      "cell_type": "code",
      "source": [
        "# Copy dataset original kedalam variabel df_copy\n",
        "df_ori = df.copy()"
      ],
      "metadata": {
        "id": "6ydx3ASndiXU"
      },
      "execution_count": null,
      "outputs": []
    },
    {
      "cell_type": "markdown",
      "source": [
        "# 4. Exploratory Data Analysis (EDA)"
      ],
      "metadata": {
        "id": "rY7Vr5pppooo"
      }
    },
    {
      "cell_type": "markdown",
      "source": [
        "> Bagian ini berisi eksplorasi data pada dataset diatas dengan menggunakan query, grouping, visualisasi sederhana, dan lain sebagainya."
      ],
      "metadata": {
        "id": "IzzfjqISpw-P"
      }
    },
    {
      "cell_type": "code",
      "source": [
        "# merubah kolom total charge menajadi tipe data numerik\n",
        "df[\"TotalCharges\"] = pd.to_numeric(df[\"TotalCharges\"], errors=\"coerce\")"
      ],
      "metadata": {
        "id": "m-B_Qdefe4Kg"
      },
      "execution_count": null,
      "outputs": []
    },
    {
      "cell_type": "code",
      "source": [
        "# data describe\n",
        "df.describe().T"
      ],
      "metadata": {
        "id": "2HoreFnBpvNn",
        "colab": {
          "base_uri": "https://localhost:8080/",
          "height": 175
        },
        "outputId": "9eab41c0-3829-4fae-890d-82d0a7c33271"
      },
      "execution_count": null,
      "outputs": [
        {
          "output_type": "execute_result",
          "data": {
            "text/plain": [
              "                 count         mean          std    min     25%       50%  \\\n",
              "SeniorCitizen   7043.0     0.162147     0.368612   0.00    0.00     0.000   \n",
              "tenure          7043.0    32.371149    24.559481   0.00    9.00    29.000   \n",
              "MonthlyCharges  7043.0    64.761692    30.090047  18.25   35.50    70.350   \n",
              "TotalCharges    7032.0  2283.300441  2266.771362  18.80  401.45  1397.475   \n",
              "\n",
              "                      75%      max  \n",
              "SeniorCitizen      0.0000     1.00  \n",
              "tenure            55.0000    72.00  \n",
              "MonthlyCharges    89.8500   118.75  \n",
              "TotalCharges    3794.7375  8684.80  "
            ],
            "text/html": [
              "\n",
              "  <div id=\"df-f67d68b9-48f9-4a7c-ad03-037cf6849106\">\n",
              "    <div class=\"colab-df-container\">\n",
              "      <div>\n",
              "<style scoped>\n",
              "    .dataframe tbody tr th:only-of-type {\n",
              "        vertical-align: middle;\n",
              "    }\n",
              "\n",
              "    .dataframe tbody tr th {\n",
              "        vertical-align: top;\n",
              "    }\n",
              "\n",
              "    .dataframe thead th {\n",
              "        text-align: right;\n",
              "    }\n",
              "</style>\n",
              "<table border=\"1\" class=\"dataframe\">\n",
              "  <thead>\n",
              "    <tr style=\"text-align: right;\">\n",
              "      <th></th>\n",
              "      <th>count</th>\n",
              "      <th>mean</th>\n",
              "      <th>std</th>\n",
              "      <th>min</th>\n",
              "      <th>25%</th>\n",
              "      <th>50%</th>\n",
              "      <th>75%</th>\n",
              "      <th>max</th>\n",
              "    </tr>\n",
              "  </thead>\n",
              "  <tbody>\n",
              "    <tr>\n",
              "      <th>SeniorCitizen</th>\n",
              "      <td>7043.0</td>\n",
              "      <td>0.162147</td>\n",
              "      <td>0.368612</td>\n",
              "      <td>0.00</td>\n",
              "      <td>0.00</td>\n",
              "      <td>0.000</td>\n",
              "      <td>0.0000</td>\n",
              "      <td>1.00</td>\n",
              "    </tr>\n",
              "    <tr>\n",
              "      <th>tenure</th>\n",
              "      <td>7043.0</td>\n",
              "      <td>32.371149</td>\n",
              "      <td>24.559481</td>\n",
              "      <td>0.00</td>\n",
              "      <td>9.00</td>\n",
              "      <td>29.000</td>\n",
              "      <td>55.0000</td>\n",
              "      <td>72.00</td>\n",
              "    </tr>\n",
              "    <tr>\n",
              "      <th>MonthlyCharges</th>\n",
              "      <td>7043.0</td>\n",
              "      <td>64.761692</td>\n",
              "      <td>30.090047</td>\n",
              "      <td>18.25</td>\n",
              "      <td>35.50</td>\n",
              "      <td>70.350</td>\n",
              "      <td>89.8500</td>\n",
              "      <td>118.75</td>\n",
              "    </tr>\n",
              "    <tr>\n",
              "      <th>TotalCharges</th>\n",
              "      <td>7032.0</td>\n",
              "      <td>2283.300441</td>\n",
              "      <td>2266.771362</td>\n",
              "      <td>18.80</td>\n",
              "      <td>401.45</td>\n",
              "      <td>1397.475</td>\n",
              "      <td>3794.7375</td>\n",
              "      <td>8684.80</td>\n",
              "    </tr>\n",
              "  </tbody>\n",
              "</table>\n",
              "</div>\n",
              "      <button class=\"colab-df-convert\" onclick=\"convertToInteractive('df-f67d68b9-48f9-4a7c-ad03-037cf6849106')\"\n",
              "              title=\"Convert this dataframe to an interactive table.\"\n",
              "              style=\"display:none;\">\n",
              "        \n",
              "  <svg xmlns=\"http://www.w3.org/2000/svg\" height=\"24px\"viewBox=\"0 0 24 24\"\n",
              "       width=\"24px\">\n",
              "    <path d=\"M0 0h24v24H0V0z\" fill=\"none\"/>\n",
              "    <path d=\"M18.56 5.44l.94 2.06.94-2.06 2.06-.94-2.06-.94-.94-2.06-.94 2.06-2.06.94zm-11 1L8.5 8.5l.94-2.06 2.06-.94-2.06-.94L8.5 2.5l-.94 2.06-2.06.94zm10 10l.94 2.06.94-2.06 2.06-.94-2.06-.94-.94-2.06-.94 2.06-2.06.94z\"/><path d=\"M17.41 7.96l-1.37-1.37c-.4-.4-.92-.59-1.43-.59-.52 0-1.04.2-1.43.59L10.3 9.45l-7.72 7.72c-.78.78-.78 2.05 0 2.83L4 21.41c.39.39.9.59 1.41.59.51 0 1.02-.2 1.41-.59l7.78-7.78 2.81-2.81c.8-.78.8-2.07 0-2.86zM5.41 20L4 18.59l7.72-7.72 1.47 1.35L5.41 20z\"/>\n",
              "  </svg>\n",
              "      </button>\n",
              "      \n",
              "  <style>\n",
              "    .colab-df-container {\n",
              "      display:flex;\n",
              "      flex-wrap:wrap;\n",
              "      gap: 12px;\n",
              "    }\n",
              "\n",
              "    .colab-df-convert {\n",
              "      background-color: #E8F0FE;\n",
              "      border: none;\n",
              "      border-radius: 50%;\n",
              "      cursor: pointer;\n",
              "      display: none;\n",
              "      fill: #1967D2;\n",
              "      height: 32px;\n",
              "      padding: 0 0 0 0;\n",
              "      width: 32px;\n",
              "    }\n",
              "\n",
              "    .colab-df-convert:hover {\n",
              "      background-color: #E2EBFA;\n",
              "      box-shadow: 0px 1px 2px rgba(60, 64, 67, 0.3), 0px 1px 3px 1px rgba(60, 64, 67, 0.15);\n",
              "      fill: #174EA6;\n",
              "    }\n",
              "\n",
              "    [theme=dark] .colab-df-convert {\n",
              "      background-color: #3B4455;\n",
              "      fill: #D2E3FC;\n",
              "    }\n",
              "\n",
              "    [theme=dark] .colab-df-convert:hover {\n",
              "      background-color: #434B5C;\n",
              "      box-shadow: 0px 1px 3px 1px rgba(0, 0, 0, 0.15);\n",
              "      filter: drop-shadow(0px 1px 2px rgba(0, 0, 0, 0.3));\n",
              "      fill: #FFFFFF;\n",
              "    }\n",
              "  </style>\n",
              "\n",
              "      <script>\n",
              "        const buttonEl =\n",
              "          document.querySelector('#df-f67d68b9-48f9-4a7c-ad03-037cf6849106 button.colab-df-convert');\n",
              "        buttonEl.style.display =\n",
              "          google.colab.kernel.accessAllowed ? 'block' : 'none';\n",
              "\n",
              "        async function convertToInteractive(key) {\n",
              "          const element = document.querySelector('#df-f67d68b9-48f9-4a7c-ad03-037cf6849106');\n",
              "          const dataTable =\n",
              "            await google.colab.kernel.invokeFunction('convertToInteractive',\n",
              "                                                     [key], {});\n",
              "          if (!dataTable) return;\n",
              "\n",
              "          const docLinkHtml = 'Like what you see? Visit the ' +\n",
              "            '<a target=\"_blank\" href=https://colab.research.google.com/notebooks/data_table.ipynb>data table notebook</a>'\n",
              "            + ' to learn more about interactive tables.';\n",
              "          element.innerHTML = '';\n",
              "          dataTable['output_type'] = 'display_data';\n",
              "          await google.colab.output.renderOutput(dataTable, element);\n",
              "          const docLink = document.createElement('div');\n",
              "          docLink.innerHTML = docLinkHtml;\n",
              "          element.appendChild(docLink);\n",
              "        }\n",
              "      </script>\n",
              "    </div>\n",
              "  </div>\n",
              "  "
            ]
          },
          "metadata": {},
          "execution_count": 178
        }
      ]
    },
    {
      "cell_type": "markdown",
      "source": [
        "- Exp :\n",
        "  > - untuk rata\" biaya perbulan sebesar 64.761 dan standar deviasi 30.09\n",
        "  > - Dan untuk rata\" total biaya sebesar 2283.3 dan standar deviasi 2266.77"
      ],
      "metadata": {
        "id": "UdeoI0f1fENI"
      }
    },
    {
      "cell_type": "code",
      "source": [
        "# Cek jumlah data dari kolom target\n",
        "df['Churn'].value_counts().plot(kind='bar')\n",
        "print(df['Churn'].value_counts())"
      ],
      "metadata": {
        "id": "A2vFNDzXdsmz",
        "colab": {
          "base_uri": "https://localhost:8080/",
          "height": 323
        },
        "outputId": "83a0ebf1-4585-45f9-c7b8-111eec6e9a96"
      },
      "execution_count": null,
      "outputs": [
        {
          "output_type": "stream",
          "name": "stdout",
          "text": [
            "No     5174\n",
            "Yes    1869\n",
            "Name: Churn, dtype: int64\n"
          ]
        },
        {
          "output_type": "display_data",
          "data": {
            "text/plain": [
              "<Figure size 432x288 with 1 Axes>"
            ],
            "image/png": "[encoded data removed]"
          },
          "metadata": {
            "needs_background": "light"
          }
        }
      ]
    },
    {
      "cell_type": "markdown",
      "source": [
        "- Exp :  \n",
        "  > - Jika dilihat menggunakan diagram histogram ada 5174 pelanggan No Churn\n",
        "  > - Dan 1869 pelanggan Churn\n",
        "  > - Berdasarkan kolom target, jumlah pelanggan No Churn lebih besar dibandingkan dengan Churn, hal ini dapat menyebabkan data menjadi inbalance dan kemungkinan akan mempengaruhi hasil dari model"
      ],
      "metadata": {
        "id": "JjoRWt9Sfyxn"
      }
    },
    {
      "cell_type": "code",
      "source": [
        "# Visualisasi kolom StreamingTV\n",
        "plt.figure(figsize=(8,7))\n",
        "sns.countplot(x='StreamingTV',hue='gender',palette=\"cubehelix\", data=df)\n",
        "print(df['StreamingTV'].value_counts())"
      ],
      "metadata": {
        "id": "VT6a9RFHhSFl",
        "colab": {
          "base_uri": "https://localhost:8080/",
          "height": 511
        },
        "outputId": "994f48c4-0713-4a18-d33c-22ad22cf02e0"
      },
      "execution_count": null,
      "outputs": [
        {
          "output_type": "stream",
          "name": "stdout",
          "text": [
            "No                     2810\n",
            "Yes                    2707\n",
            "No internet service    1526\n",
            "Name: StreamingTV, dtype: int64\n"
          ]
        },
        {
          "output_type": "display_data",
          "data": {
            "text/plain": [
              "<Figure size 576x504 with 1 Axes>"
            ],
            "image/png": "[encoded data removed]"
          },
          "metadata": {
            "needs_background": "light"
          }
        }
      ]
    },
    {
      "cell_type": "code",
      "source": [
        "# Visualisasi kolom StreamingMovies\n",
        "plt.figure(figsize=(8,7))\n",
        "sns.countplot(x='StreamingMovies',hue='gender',palette=\"magma\", data=df)\n",
        "print(df['StreamingMovies'].value_counts())"
      ],
      "metadata": {
        "id": "k85bGClfiS-x",
        "colab": {
          "base_uri": "https://localhost:8080/",
          "height": 511
        },
        "outputId": "a4d75a06-3349-4426-eacb-c683c3bb0063"
      },
      "execution_count": null,
      "outputs": [
        {
          "output_type": "stream",
          "name": "stdout",
          "text": [
            "No                     2785\n",
            "Yes                    2732\n",
            "No internet service    1526\n",
            "Name: StreamingMovies, dtype: int64\n"
          ]
        },
        {
          "output_type": "display_data",
          "data": {
            "text/plain": [
              "<Figure size 576x504 with 1 Axes>"
            ],
            "image/png": "[encoded data removed]"
          },
          "metadata": {
            "needs_background": "light"
          }
        }
      ]
    },
    {
      "cell_type": "code",
      "source": [
        "# Cek jumlah data dari kolom target\n",
        "df['PaymentMethod'].value_counts().plot(kind='bar')\n",
        "print(df['PaymentMethod'].value_counts())"
      ],
      "metadata": {
        "id": "LVQdfxQ6iiJ_",
        "colab": {
          "base_uri": "https://localhost:8080/",
          "height": 471
        },
        "outputId": "f8bf5a61-595e-403d-cf48-5f865219d560"
      },
      "execution_count": null,
      "outputs": [
        {
          "output_type": "stream",
          "name": "stdout",
          "text": [
            "Electronic check             2365\n",
            "Mailed check                 1612\n",
            "Bank transfer (automatic)    1544\n",
            "Credit card (automatic)      1522\n",
            "Name: PaymentMethod, dtype: int64\n"
          ]
        },
        {
          "output_type": "display_data",
          "data": {
            "text/plain": [
              "<Figure size 432x288 with 1 Axes>"
            ],
            "image/png": "[encoded data removed]"
          },
          "metadata": {
            "needs_background": "light"
          }
        }
      ]
    },
    {
      "cell_type": "code",
      "source": [
        "df.info()"
      ],
      "metadata": {
        "id": "HXecdTnjjUQV",
        "colab": {
          "base_uri": "https://localhost:8080/"
        },
        "outputId": "7ba90547-cf17-4ab0-a857-273c92488f5e"
      },
      "execution_count": null,
      "outputs": [
        {
          "output_type": "stream",
          "name": "stdout",
          "text": [
            "<class 'pandas.core.frame.DataFrame'>\n",
            "RangeIndex: 7043 entries, 0 to 7042\n",
            "Data columns (total 21 columns):\n",
            " #   Column            Non-Null Count  Dtype  \n",
            "---  ------            --------------  -----  \n",
            " 0   customerID        7043 non-null   object \n",
            " 1   gender            7043 non-null   object \n",
            " 2   SeniorCitizen     7043 non-null   int64  \n",
            " 3   Partner           7043 non-null   object \n",
            " 4   Dependents        7043 non-null   object \n",
            " 5   tenure            7043 non-null   int64  \n",
            " 6   PhoneService      7043 non-null   object \n",
            " 7   MultipleLines     7043 non-null   object \n",
            " 8   InternetService   7043 non-null   object \n",
            " 9   OnlineSecurity    7043 non-null   object \n",
            " 10  OnlineBackup      7043 non-null   object \n",
            " 11  DeviceProtection  7043 non-null   object \n",
            " 12  TechSupport       7043 non-null   object \n",
            " 13  StreamingTV       7043 non-null   object \n",
            " 14  StreamingMovies   7043 non-null   object \n",
            " 15  Contract          7043 non-null   object \n",
            " 16  PaperlessBilling  7043 non-null   object \n",
            " 17  PaymentMethod     7043 non-null   object \n",
            " 18  MonthlyCharges    7043 non-null   float64\n",
            " 19  TotalCharges      7032 non-null   float64\n",
            " 20  Churn             7043 non-null   object \n",
            "dtypes: float64(2), int64(2), object(17)\n",
            "memory usage: 1.1+ MB\n"
          ]
        }
      ]
    },
    {
      "cell_type": "code",
      "source": [
        "# Cek unique value pada kolom kategorik\n",
        "print ('gender unique :')\n",
        "print (df['gender'].unique())\n",
        "print ('*******************************************************************')\n",
        "print ('Partner unique :')\n",
        "print (df['Partner'].unique())\n",
        "print ('*******************************************************************')\n",
        "print ('Dependents unique :')\n",
        "print (df['Dependents'].unique())\n",
        "print ('*******************************************************************')\n",
        "print ('PhoneService unique :')\n",
        "print (df['PhoneService'].unique())\n",
        "print ('*******************************************************************')\n",
        "print ('MultipleLines unique :')\n",
        "print (df['MultipleLines'].unique())\n",
        "print ('*******************************************************************')\n",
        "print ('InternetService unique :')\n",
        "print (df['InternetService'].unique())\n",
        "print ('*******************************************************************')\n",
        "print ('OnlineSecurity unique :')\n",
        "print (df['OnlineSecurity'].unique())\n",
        "print ('*******************************************************************')\n",
        "print ('OnlineBackup unique :')\n",
        "print (df['OnlineBackup'].unique())\n",
        "print ('*******************************************************************')\n",
        "print ('DeviceProtection unique :')\n",
        "print (df['DeviceProtection'].unique())\n",
        "print ('*******************************************************************')\n",
        "print ('TechSupport unique :')\n",
        "print (df['TechSupport'].unique())\n",
        "print ('*******************************************************************')\n",
        "print ('StreamingTV unique :')\n",
        "print (df['StreamingTV'].unique())\n",
        "print ('*******************************************************************')\n",
        "print ('StreamingMovies unique :')\n",
        "print (df['StreamingMovies'].unique())\n",
        "print ('*******************************************************************')\n",
        "print ('Contract unique :')\n",
        "print (df['Contract'].unique())\n",
        "print ('*******************************************************************')\n",
        "print ('PaperlessBilling unique :')\n",
        "print (df['PaperlessBilling'].unique())\n",
        "print ('*******************************************************************')\n",
        "print ('PaymentMethod unique :')\n",
        "print (df['PaymentMethod'].unique())\n",
        "print ('*******************************************************************')"
      ],
      "metadata": {
        "id": "WYka3SiRjAOp",
        "colab": {
          "base_uri": "https://localhost:8080/"
        },
        "outputId": "ce927010-ee5d-48d6-b8dd-2d6edefbfc3b"
      },
      "execution_count": null,
      "outputs": [
        {
          "output_type": "stream",
          "name": "stdout",
          "text": [
            "gender unique :\n",
            "['Female' 'Male']\n",
            "*******************************************************************\n",
            "Partner unique :\n",
            "['Yes' 'No']\n",
            "*******************************************************************\n",
            "Dependents unique :\n",
            "['No' 'Yes']\n",
            "*******************************************************************\n",
            "PhoneService unique :\n",
            "['No' 'Yes']\n",
            "*******************************************************************\n",
            "MultipleLines unique :\n",
            "['No phone service' 'No' 'Yes']\n",
            "*******************************************************************\n",
            "InternetService unique :\n",
            "['DSL' 'Fiber optic' 'No']\n",
            "*******************************************************************\n",
            "OnlineSecurity unique :\n",
            "['No' 'Yes' 'No internet service']\n",
            "*******************************************************************\n",
            "OnlineBackup unique :\n",
            "['Yes' 'No' 'No internet service']\n",
            "*******************************************************************\n",
            "DeviceProtection unique :\n",
            "['No' 'Yes' 'No internet service']\n",
            "*******************************************************************\n",
            "TechSupport unique :\n",
            "['No' 'Yes' 'No internet service']\n",
            "*******************************************************************\n",
            "StreamingTV unique :\n",
            "['No' 'Yes' 'No internet service']\n",
            "*******************************************************************\n",
            "StreamingMovies unique :\n",
            "['No' 'Yes' 'No internet service']\n",
            "*******************************************************************\n",
            "Contract unique :\n",
            "['Month-to-month' 'One year' 'Two year']\n",
            "*******************************************************************\n",
            "PaperlessBilling unique :\n",
            "['Yes' 'No']\n",
            "*******************************************************************\n",
            "PaymentMethod unique :\n",
            "['Electronic check' 'Mailed check' 'Bank transfer (automatic)'\n",
            " 'Credit card (automatic)']\n",
            "*******************************************************************\n"
          ]
        }
      ]
    },
    {
      "cell_type": "code",
      "source": [
        "# Visualisasi persebaran data setiap columns\n",
        "%matplotlib inline\n",
        "import matplotlib.pyplot as plt\n",
        "df.select_dtypes(include=np.number).hist(bins=50, figsize=(15,10))\n",
        "\n",
        "plt.show()"
      ],
      "metadata": {
        "id": "OSv6OHF0k32p",
        "colab": {
          "base_uri": "https://localhost:8080/",
          "height": 608
        },
        "outputId": "1d5468a2-79dc-4731-88ff-a9e6096cb90e"
      },
      "execution_count": null,
      "outputs": [
        {
          "output_type": "display_data",
          "data": {
            "text/plain": [
              "<Figure size 1080x720 with 4 Axes>"
            ],
            "image/png": "[encoded data removed]"
          },
          "metadata": {
            "needs_background": "light"
          }
        }
      ]
    },
    {
      "cell_type": "code",
      "source": [
        "plt.figure(figsize=(14,4))\n",
        "for i in range(0,len(df.select_dtypes(include=np.number).columns)):\n",
        "    plt.subplot(2,3, i+1)\n",
        "    sns.boxplot(x=df[df.select_dtypes(include=np.number).columns[i]], color='green')\n",
        "    plt.tight_layout()"
      ],
      "metadata": {
        "id": "oMw8S1Q0TGsf",
        "colab": {
          "base_uri": "https://localhost:8080/",
          "height": 297
        },
        "outputId": "9a965235-c3f1-497e-c58d-8e654ab9d9af"
      },
      "execution_count": null,
      "outputs": [
        {
          "output_type": "display_data",
          "data": {
            "text/plain": [
              "<Figure size 1008x288 with 4 Axes>"
            ],
            "image/png": "[encoded data removed]"
          },
          "metadata": {
            "needs_background": "light"
          }
        }
      ]
    },
    {
      "cell_type": "markdown",
      "source": [
        "#### 4.1 EDA Analysis"
      ],
      "metadata": {
        "id": "S6tv8lb3J4Eg"
      }
    },
    {
      "cell_type": "markdown",
      "source": [
        "- Jika dilihat menggunakan diagram histogram ada 5174 pelanggan No Churn\n",
        "- Dan 1869 pelanggan Churn\n",
        "- Berdasarkan kolom target, jumlah pelanggan No Churn lebih besar dibandingkan dengan Churn, hal ini dapat menyebabkan data menjadi inbalance dan kemungkinan akan mempengaruhi hasil dari model\n",
        "- untuk rata\" biaya perbulan sebesar 64.761 dan standar deviasi 30.09\n",
        "- Dan untuk rata\" total biaya sebesar 2283.3 dan standar deviasi 2266.77\n",
        "- Jika dilihat dari dataset baik laki-laki ataupun perempuan tidak banyak yang menggunakan streaming tv ataupun streaming movies\n",
        "- jika dilihat dari diagram box plot tidak ada outlier pada setiap kolom numerik\n",
        "- Kita akan melakukan pengecekan lebih lanjut pada saat preprocessing"
      ],
      "metadata": {
        "id": "03NaBq61KBp9"
      }
    },
    {
      "cell_type": "markdown",
      "source": [
        "# 5. Data Preprocessing"
      ],
      "metadata": {
        "id": "msW1Lj9-p3Ja"
      }
    },
    {
      "cell_type": "markdown",
      "source": [
        "> Bagian ini berisi proses penyiapan data untuk proses pelatihan model, seperti pembagian data menjadi train-dev-test, transformasi data (normalisasi, encoding, dll.), dan proses-proses lain yang dibutuhkan."
      ],
      "metadata": {
        "id": "Ba4gM1ofp-iK"
      }
    },
    {
      "cell_type": "markdown",
      "source": [
        "#### 5.1 Data Inference"
      ],
      "metadata": {
        "id": "2V4BkXR0mt2j"
      }
    },
    {
      "cell_type": "code",
      "source": [
        "# Mengambil data inference dari data set\n",
        "df_inf = df.sample(10, random_state=9)\n",
        "\n",
        "# Remove Inference-Set dari Dataset\n",
        "\n",
        "df_train_test = df.drop(df_inf.index)\n",
        "df_train_test\n",
        "\n",
        "# Reset Index \n",
        "df_train_test.reset_index(drop=True, inplace=True)\n",
        "df_inf.reset_index(drop=True, inplace=True)\n",
        "print (df_inf.shape)\n",
        "print (df_train_test.shape)"
      ],
      "metadata": {
        "id": "xIfV6XWhp89H",
        "colab": {
          "base_uri": "https://localhost:8080/"
        },
        "outputId": "5f5b2996-179c-466e-bf0b-783ba9d5cb24"
      },
      "execution_count": null,
      "outputs": [
        {
          "output_type": "stream",
          "name": "stdout",
          "text": [
            "(10, 21)\n",
            "(7033, 21)\n"
          ]
        }
      ]
    },
    {
      "cell_type": "code",
      "source": [
        "# feature encoding to Churn column\n",
        "enc = LabelEncoder()\n",
        "Churn_enc = enc.fit_transform(df_train_test['Churn'])"
      ],
      "metadata": {
        "id": "IGXNBh5ik6yg"
      },
      "execution_count": null,
      "outputs": []
    },
    {
      "cell_type": "markdown",
      "source": [
        "The mapping is as follows: No = 0 and yes =1"
      ],
      "metadata": {
        "id": "1AMyWkYzmgce"
      }
    },
    {
      "cell_type": "code",
      "source": [
        "Churn_enc = pd.DataFrame(Churn_enc, columns=['Churn-enc'])"
      ],
      "metadata": {
        "id": "7JbflirElUCM"
      },
      "execution_count": null,
      "outputs": []
    },
    {
      "cell_type": "code",
      "source": [
        "df_train_test = df_train_test.drop(columns=['Churn'])\n",
        "df_train_test = pd.concat([df_train_test, Churn_enc], axis=1)"
      ],
      "metadata": {
        "id": "ypEY2xhRl9qm"
      },
      "execution_count": null,
      "outputs": []
    },
    {
      "cell_type": "markdown",
      "source": [
        "#### 5.2 Data Splitting"
      ],
      "metadata": {
        "id": "BlHLv5iPm4m_"
      }
    },
    {
      "cell_type": "code",
      "source": [
        "# Split between X (features) and y (target)\n",
        "\n",
        "X = df_train_test.drop('Churn-enc', axis=1)\n",
        "y = df_train_test['Churn-enc']\n",
        "\n",
        "# Split untuk Train-Set and Test-Set\n",
        "X_train, X_test, y_train, y_test = train_test_split(X, y, test_size=0.2, random_state=6)\n",
        "\n",
        "# Split untuk Train-Set and val-set\n",
        "X_train, X_val, y_train, y_val = train_test_split(X_train, y_train, test_size=0.1, random_state=9)\n",
        "\n",
        "print('Train Size : ', X_train.shape)\n",
        "print('Test Size  : ', X_test.shape)\n",
        "print('val Size  : ', X_val.shape)\n",
        "print('y_val Size  : ', y_val.shape)\n",
        "print('y_train Size  : ', y_train.shape)\n",
        "print('y_test Size  : ', y_test.shape)"
      ],
      "metadata": {
        "id": "KymWjWpWm3Nn",
        "colab": {
          "base_uri": "https://localhost:8080/"
        },
        "outputId": "e01ef6fb-f2a8-4fc2-b649-1962a1c3d96f"
      },
      "execution_count": null,
      "outputs": [
        {
          "output_type": "stream",
          "name": "stdout",
          "text": [
            "Train Size :  (5063, 20)\n",
            "Test Size  :  (1407, 20)\n",
            "val Size  :  (563, 20)\n",
            "y_val Size  :  (563,)\n",
            "y_train Size  :  (5063,)\n",
            "y_test Size  :  (1407,)\n"
          ]
        }
      ]
    },
    {
      "cell_type": "code",
      "source": [
        "# Mendapatkan Numerical Columns and Categorical Columns\n",
        "num_columns = X_train.select_dtypes(include=np.number).columns.tolist()\n",
        "cat_columns = X_train.select_dtypes(include=['object']).columns.tolist()\n",
        "\n",
        "# Split Train-Set, val-set and Test-Set berdasrkan tipe kolom (Numerical/Categorical)\n",
        "\n",
        "X_train_num = X_train[num_columns]\n",
        "X_train_cat = X_train[cat_columns]\n",
        "\n",
        "X_test_num = X_test[num_columns]\n",
        "X_test_cat = X_test[cat_columns]\n",
        "\n",
        "X_val_num = X_val[num_columns]\n",
        "X_val_cat = X_val[cat_columns]\n",
        "\n"
      ],
      "metadata": {
        "id": "pQnKtxbSpojK"
      },
      "execution_count": null,
      "outputs": []
    },
    {
      "cell_type": "markdown",
      "source": [
        "#### 5.3 Handling Missing value"
      ],
      "metadata": {
        "id": "AjlRLpghOLTa"
      }
    },
    {
      "cell_type": "code",
      "source": [
        "# Cek Missing value\n",
        "print(X_train.isnull().sum().sum())\n",
        "print(X_test.isnull().sum().sum())\n",
        "print(X_val.isnull().sum().sum())\n",
        "print(y_train.isnull().sum().sum())\n",
        "print(y_test.isnull().sum().sum())\n",
        "print(y_test.isnull().sum().sum())\n",
        "print('total missing values = ', X_train.isnull().sum().sum() + X_test.isnull().sum().sum()+ X_val.isnull().sum().sum() + y_train.isnull().sum().sum() + y_test.isnull().sum().sum() + y_val.isnull().sum().sum())"
      ],
      "metadata": {
        "id": "pyJSXtXyqeK3",
        "colab": {
          "base_uri": "https://localhost:8080/"
        },
        "outputId": "a0981d81-5595-407a-cbef-45ce84c98f60"
      },
      "execution_count": null,
      "outputs": [
        {
          "output_type": "stream",
          "name": "stdout",
          "text": [
            "7\n",
            "2\n",
            "2\n",
            "0\n",
            "0\n",
            "0\n",
            "total missing values =  11\n"
          ]
        }
      ]
    },
    {
      "cell_type": "code",
      "source": [
        "# Mengisi kolom Missing pada tipe data numerik\n",
        "imputer_num = SimpleImputer(strategy=\"median\")\n",
        "imputer_num.fit(X_train_num)\n",
        "X1 = imputer_num.transform(X_train_num)\n",
        "X2 = imputer_num.transform(X_val_num)\n",
        "X3 = imputer_num.transform(X_test_num)\n",
        "\n",
        "X_train_num_tr = pd.DataFrame(X1, columns=X_train_num.columns, index=X_train_num.index)\n",
        "X_val_num_tr = pd.DataFrame(X2, columns=X_val_num.columns, index=X_val_num.index)\n",
        "X_test_num_tr = pd.DataFrame(X3, columns=X_test_num.columns, index=X_test_num.index)\n",
        "print (X_train_num_tr.shape)\n",
        "print (X_val_num_tr.shape)\n",
        "print (X_test_num_tr.shape)"
      ],
      "metadata": {
        "id": "vgujqmSMsUkQ",
        "colab": {
          "base_uri": "https://localhost:8080/"
        },
        "outputId": "a9f7d28f-53b9-4b9a-e6d9-e9ac31fce9e3"
      },
      "execution_count": null,
      "outputs": [
        {
          "output_type": "stream",
          "name": "stdout",
          "text": [
            "(5063, 4)\n",
            "(563, 4)\n",
            "(1407, 4)\n"
          ]
        }
      ]
    },
    {
      "cell_type": "code",
      "source": [
        "# Cek missing value after imputer\n",
        "print(X_train_num_tr.isnull().sum().sum())\n",
        "print(X_test_num_tr.isnull().sum().sum())\n",
        "print(X_val_num_tr.isnull().sum().sum())\n",
        "print('total missing values = ', X_train_num_tr.isnull().sum().sum() + X_test_num_tr.isnull().sum().sum()+ X_val_num_tr.isnull().sum().sum())"
      ],
      "metadata": {
        "id": "JUXk5kyYRPjY",
        "colab": {
          "base_uri": "https://localhost:8080/"
        },
        "outputId": "560c67fa-157c-4e83-c904-55a2970b2dcf"
      },
      "execution_count": null,
      "outputs": [
        {
          "output_type": "stream",
          "name": "stdout",
          "text": [
            "0\n",
            "0\n",
            "0\n",
            "total missing values =  0\n"
          ]
        }
      ]
    },
    {
      "cell_type": "markdown",
      "source": [
        "#### 5.4 Handling Outliers"
      ],
      "metadata": {
        "id": "J3VS-ZlgSuBX"
      }
    },
    {
      "cell_type": "code",
      "source": [
        "#Cek Skewness\n",
        "skew1 = []\n",
        "for i in num_columns:\n",
        "    skew1.append(abs(X_train[i].skew()))\n",
        "\n",
        "# Visualisasi ke data frame\n",
        "df_skew1 = pd.DataFrame({'Kolom':num_columns, 'Skewness_abs':skew1})\n",
        "df_skew1['normal'] = df_skew1.Skewness_abs.apply(lambda x: True if x<=0.5 else False)\n",
        "df_skew1"
      ],
      "metadata": {
        "id": "Mt34uuolSs-z",
        "colab": {
          "base_uri": "https://localhost:8080/",
          "height": 175
        },
        "outputId": "a8e88eb7-1da3-44d7-fbea-9226467c7a02"
      },
      "execution_count": null,
      "outputs": [
        {
          "output_type": "execute_result",
          "data": {
            "text/plain": [
              "            Kolom  Skewness_abs  normal\n",
              "0   SeniorCitizen      1.900419   False\n",
              "1          tenure      0.229441    True\n",
              "2  MonthlyCharges      0.207465    True\n",
              "3    TotalCharges      0.968952   False"
            ],
            "text/html": [
              "\n",
              "  <div id=\"df-f5c67b17-69a1-4b39-a1e6-1b62bb5cd8fa\">\n",
              "    <div class=\"colab-df-container\">\n",
              "      <div>\n",
              "<style scoped>\n",
              "    .dataframe tbody tr th:only-of-type {\n",
              "        vertical-align: middle;\n",
              "    }\n",
              "\n",
              "    .dataframe tbody tr th {\n",
              "        vertical-align: top;\n",
              "    }\n",
              "\n",
              "    .dataframe thead th {\n",
              "        text-align: right;\n",
              "    }\n",
              "</style>\n",
              "<table border=\"1\" class=\"dataframe\">\n",
              "  <thead>\n",
              "    <tr style=\"text-align: right;\">\n",
              "      <th></th>\n",
              "      <th>Kolom</th>\n",
              "      <th>Skewness_abs</th>\n",
              "      <th>normal</th>\n",
              "    </tr>\n",
              "  </thead>\n",
              "  <tbody>\n",
              "    <tr>\n",
              "      <th>0</th>\n",
              "      <td>SeniorCitizen</td>\n",
              "      <td>1.900419</td>\n",
              "      <td>False</td>\n",
              "    </tr>\n",
              "    <tr>\n",
              "      <th>1</th>\n",
              "      <td>tenure</td>\n",
              "      <td>0.229441</td>\n",
              "      <td>True</td>\n",
              "    </tr>\n",
              "    <tr>\n",
              "      <th>2</th>\n",
              "      <td>MonthlyCharges</td>\n",
              "      <td>0.207465</td>\n",
              "      <td>True</td>\n",
              "    </tr>\n",
              "    <tr>\n",
              "      <th>3</th>\n",
              "      <td>TotalCharges</td>\n",
              "      <td>0.968952</td>\n",
              "      <td>False</td>\n",
              "    </tr>\n",
              "  </tbody>\n",
              "</table>\n",
              "</div>\n",
              "      <button class=\"colab-df-convert\" onclick=\"convertToInteractive('df-f5c67b17-69a1-4b39-a1e6-1b62bb5cd8fa')\"\n",
              "              title=\"Convert this dataframe to an interactive table.\"\n",
              "              style=\"display:none;\">\n",
              "        \n",
              "  <svg xmlns=\"http://www.w3.org/2000/svg\" height=\"24px\"viewBox=\"0 0 24 24\"\n",
              "       width=\"24px\">\n",
              "    <path d=\"M0 0h24v24H0V0z\" fill=\"none\"/>\n",
              "    <path d=\"M18.56 5.44l.94 2.06.94-2.06 2.06-.94-2.06-.94-.94-2.06-.94 2.06-2.06.94zm-11 1L8.5 8.5l.94-2.06 2.06-.94-2.06-.94L8.5 2.5l-.94 2.06-2.06.94zm10 10l.94 2.06.94-2.06 2.06-.94-2.06-.94-.94-2.06-.94 2.06-2.06.94z\"/><path d=\"M17.41 7.96l-1.37-1.37c-.4-.4-.92-.59-1.43-.59-.52 0-1.04.2-1.43.59L10.3 9.45l-7.72 7.72c-.78.78-.78 2.05 0 2.83L4 21.41c.39.39.9.59 1.41.59.51 0 1.02-.2 1.41-.59l7.78-7.78 2.81-2.81c.8-.78.8-2.07 0-2.86zM5.41 20L4 18.59l7.72-7.72 1.47 1.35L5.41 20z\"/>\n",
              "  </svg>\n",
              "      </button>\n",
              "      \n",
              "  <style>\n",
              "    .colab-df-container {\n",
              "      display:flex;\n",
              "      flex-wrap:wrap;\n",
              "      gap: 12px;\n",
              "    }\n",
              "\n",
              "    .colab-df-convert {\n",
              "      background-color: #E8F0FE;\n",
              "      border: none;\n",
              "      border-radius: 50%;\n",
              "      cursor: pointer;\n",
              "      display: none;\n",
              "      fill: #1967D2;\n",
              "      height: 32px;\n",
              "      padding: 0 0 0 0;\n",
              "      width: 32px;\n",
              "    }\n",
              "\n",
              "    .colab-df-convert:hover {\n",
              "      background-color: #E2EBFA;\n",
              "      box-shadow: 0px 1px 2px rgba(60, 64, 67, 0.3), 0px 1px 3px 1px rgba(60, 64, 67, 0.15);\n",
              "      fill: #174EA6;\n",
              "    }\n",
              "\n",
              "    [theme=dark] .colab-df-convert {\n",
              "      background-color: #3B4455;\n",
              "      fill: #D2E3FC;\n",
              "    }\n",
              "\n",
              "    [theme=dark] .colab-df-convert:hover {\n",
              "      background-color: #434B5C;\n",
              "      box-shadow: 0px 1px 3px 1px rgba(0, 0, 0, 0.15);\n",
              "      filter: drop-shadow(0px 1px 2px rgba(0, 0, 0, 0.3));\n",
              "      fill: #FFFFFF;\n",
              "    }\n",
              "  </style>\n",
              "\n",
              "      <script>\n",
              "        const buttonEl =\n",
              "          document.querySelector('#df-f5c67b17-69a1-4b39-a1e6-1b62bb5cd8fa button.colab-df-convert');\n",
              "        buttonEl.style.display =\n",
              "          google.colab.kernel.accessAllowed ? 'block' : 'none';\n",
              "\n",
              "        async function convertToInteractive(key) {\n",
              "          const element = document.querySelector('#df-f5c67b17-69a1-4b39-a1e6-1b62bb5cd8fa');\n",
              "          const dataTable =\n",
              "            await google.colab.kernel.invokeFunction('convertToInteractive',\n",
              "                                                     [key], {});\n",
              "          if (!dataTable) return;\n",
              "\n",
              "          const docLinkHtml = 'Like what you see? Visit the ' +\n",
              "            '<a target=\"_blank\" href=https://colab.research.google.com/notebooks/data_table.ipynb>data table notebook</a>'\n",
              "            + ' to learn more about interactive tables.';\n",
              "          element.innerHTML = '';\n",
              "          dataTable['output_type'] = 'display_data';\n",
              "          await google.colab.output.renderOutput(dataTable, element);\n",
              "          const docLink = document.createElement('div');\n",
              "          docLink.innerHTML = docLinkHtml;\n",
              "          element.appendChild(docLink);\n",
              "        }\n",
              "      </script>\n",
              "    </div>\n",
              "  </div>\n",
              "  "
            ]
          },
          "metadata": {},
          "execution_count": 196
        }
      ]
    },
    {
      "cell_type": "code",
      "source": [
        "# Cek Persentasi untuk kolom yg terdistribusi normal\n",
        "percent_outliers = []\n",
        "for i in ['tenure', 'MonthlyCharges']:\n",
        "    std = X_train[i].std()\n",
        "    upper = X_train[i].mean() + 3*std\n",
        "    lower = X_train[i].mean() - 3*std\n",
        "    percent = len(X_train[(X_train[i]>upper)|(X_train[i]<lower)])*100/len(X_train)\n",
        "    percent_outliers.append(percent)\n",
        "\n",
        "# Visualisasi ke Data Frame\n",
        "pd.DataFrame({'Kolom':['tenure', 'MonthlyCharges'], 'persentasi_outlier':percent_outliers})"
      ],
      "metadata": {
        "id": "H1K4DpxRUfkV",
        "colab": {
          "base_uri": "https://localhost:8080/",
          "height": 112
        },
        "outputId": "f7ed68fe-5552-4235-e97c-c826e90ae654"
      },
      "execution_count": null,
      "outputs": [
        {
          "output_type": "execute_result",
          "data": {
            "text/plain": [
              "            Kolom  persentasi_outlier\n",
              "0          tenure                 0.0\n",
              "1  MonthlyCharges                 0.0"
            ],
            "text/html": [
              "\n",
              "  <div id=\"df-c2d3290f-2911-4a0b-bc5a-17efe8ed3cea\">\n",
              "    <div class=\"colab-df-container\">\n",
              "      <div>\n",
              "<style scoped>\n",
              "    .dataframe tbody tr th:only-of-type {\n",
              "        vertical-align: middle;\n",
              "    }\n",
              "\n",
              "    .dataframe tbody tr th {\n",
              "        vertical-align: top;\n",
              "    }\n",
              "\n",
              "    .dataframe thead th {\n",
              "        text-align: right;\n",
              "    }\n",
              "</style>\n",
              "<table border=\"1\" class=\"dataframe\">\n",
              "  <thead>\n",
              "    <tr style=\"text-align: right;\">\n",
              "      <th></th>\n",
              "      <th>Kolom</th>\n",
              "      <th>persentasi_outlier</th>\n",
              "    </tr>\n",
              "  </thead>\n",
              "  <tbody>\n",
              "    <tr>\n",
              "      <th>0</th>\n",
              "      <td>tenure</td>\n",
              "      <td>0.0</td>\n",
              "    </tr>\n",
              "    <tr>\n",
              "      <th>1</th>\n",
              "      <td>MonthlyCharges</td>\n",
              "      <td>0.0</td>\n",
              "    </tr>\n",
              "  </tbody>\n",
              "</table>\n",
              "</div>\n",
              "      <button class=\"colab-df-convert\" onclick=\"convertToInteractive('df-c2d3290f-2911-4a0b-bc5a-17efe8ed3cea')\"\n",
              "              title=\"Convert this dataframe to an interactive table.\"\n",
              "              style=\"display:none;\">\n",
              "        \n",
              "  <svg xmlns=\"http://www.w3.org/2000/svg\" height=\"24px\"viewBox=\"0 0 24 24\"\n",
              "       width=\"24px\">\n",
              "    <path d=\"M0 0h24v24H0V0z\" fill=\"none\"/>\n",
              "    <path d=\"M18.56 5.44l.94 2.06.94-2.06 2.06-.94-2.06-.94-.94-2.06-.94 2.06-2.06.94zm-11 1L8.5 8.5l.94-2.06 2.06-.94-2.06-.94L8.5 2.5l-.94 2.06-2.06.94zm10 10l.94 2.06.94-2.06 2.06-.94-2.06-.94-.94-2.06-.94 2.06-2.06.94z\"/><path d=\"M17.41 7.96l-1.37-1.37c-.4-.4-.92-.59-1.43-.59-.52 0-1.04.2-1.43.59L10.3 9.45l-7.72 7.72c-.78.78-.78 2.05 0 2.83L4 21.41c.39.39.9.59 1.41.59.51 0 1.02-.2 1.41-.59l7.78-7.78 2.81-2.81c.8-.78.8-2.07 0-2.86zM5.41 20L4 18.59l7.72-7.72 1.47 1.35L5.41 20z\"/>\n",
              "  </svg>\n",
              "      </button>\n",
              "      \n",
              "  <style>\n",
              "    .colab-df-container {\n",
              "      display:flex;\n",
              "      flex-wrap:wrap;\n",
              "      gap: 12px;\n",
              "    }\n",
              "\n",
              "    .colab-df-convert {\n",
              "      background-color: #E8F0FE;\n",
              "      border: none;\n",
              "      border-radius: 50%;\n",
              "      cursor: pointer;\n",
              "      display: none;\n",
              "      fill: #1967D2;\n",
              "      height: 32px;\n",
              "      padding: 0 0 0 0;\n",
              "      width: 32px;\n",
              "    }\n",
              "\n",
              "    .colab-df-convert:hover {\n",
              "      background-color: #E2EBFA;\n",
              "      box-shadow: 0px 1px 2px rgba(60, 64, 67, 0.3), 0px 1px 3px 1px rgba(60, 64, 67, 0.15);\n",
              "      fill: #174EA6;\n",
              "    }\n",
              "\n",
              "    [theme=dark] .colab-df-convert {\n",
              "      background-color: #3B4455;\n",
              "      fill: #D2E3FC;\n",
              "    }\n",
              "\n",
              "    [theme=dark] .colab-df-convert:hover {\n",
              "      background-color: #434B5C;\n",
              "      box-shadow: 0px 1px 3px 1px rgba(0, 0, 0, 0.15);\n",
              "      filter: drop-shadow(0px 1px 2px rgba(0, 0, 0, 0.3));\n",
              "      fill: #FFFFFF;\n",
              "    }\n",
              "  </style>\n",
              "\n",
              "      <script>\n",
              "        const buttonEl =\n",
              "          document.querySelector('#df-c2d3290f-2911-4a0b-bc5a-17efe8ed3cea button.colab-df-convert');\n",
              "        buttonEl.style.display =\n",
              "          google.colab.kernel.accessAllowed ? 'block' : 'none';\n",
              "\n",
              "        async function convertToInteractive(key) {\n",
              "          const element = document.querySelector('#df-c2d3290f-2911-4a0b-bc5a-17efe8ed3cea');\n",
              "          const dataTable =\n",
              "            await google.colab.kernel.invokeFunction('convertToInteractive',\n",
              "                                                     [key], {});\n",
              "          if (!dataTable) return;\n",
              "\n",
              "          const docLinkHtml = 'Like what you see? Visit the ' +\n",
              "            '<a target=\"_blank\" href=https://colab.research.google.com/notebooks/data_table.ipynb>data table notebook</a>'\n",
              "            + ' to learn more about interactive tables.';\n",
              "          element.innerHTML = '';\n",
              "          dataTable['output_type'] = 'display_data';\n",
              "          await google.colab.output.renderOutput(dataTable, element);\n",
              "          const docLink = document.createElement('div');\n",
              "          docLink.innerHTML = docLinkHtml;\n",
              "          element.appendChild(docLink);\n",
              "        }\n",
              "      </script>\n",
              "    </div>\n",
              "  </div>\n",
              "  "
            ]
          },
          "metadata": {},
          "execution_count": 197
        }
      ]
    },
    {
      "cell_type": "code",
      "source": [
        "# Cek Persentasi untuk kolom yg terdistribusi skewed\n",
        "percent_outliers2 = []\n",
        "num = 3\n",
        "for i in ['TotalCharges']:\n",
        "    q1 = np.quantile(X_train[i], 0.25)\n",
        "    q3 = np.quantile(X_train[i], 0.75)\n",
        "    iqr = q3 - q1\n",
        "    upper1 = q3 + num*iqr\n",
        "    lower1 = q1 - num*iqr\n",
        "    percent = len(X_train[(X_train[i]>upper1)|(X_train[i]<lower1)])*100/len(X_train)\n",
        "    percent_outliers2.append(percent)\n",
        "\n",
        "# Visualisasi ke Data Frame\n",
        "pd.DataFrame({'Kolom':['TotalCharges'], 'persentasi_outlier':percent_outliers2})"
      ],
      "metadata": {
        "id": "QkvNMaDyVYdr",
        "colab": {
          "base_uri": "https://localhost:8080/",
          "height": 81
        },
        "outputId": "2f326575-4748-4925-8c89-4e3c2ecf73f6"
      },
      "execution_count": null,
      "outputs": [
        {
          "output_type": "execute_result",
          "data": {
            "text/plain": [
              "          Kolom  persentasi_outlier\n",
              "0  TotalCharges                 0.0"
            ],
            "text/html": [
              "\n",
              "  <div id=\"df-9c42efeb-fca4-4494-9d34-56f43f017a3a\">\n",
              "    <div class=\"colab-df-container\">\n",
              "      <div>\n",
              "<style scoped>\n",
              "    .dataframe tbody tr th:only-of-type {\n",
              "        vertical-align: middle;\n",
              "    }\n",
              "\n",
              "    .dataframe tbody tr th {\n",
              "        vertical-align: top;\n",
              "    }\n",
              "\n",
              "    .dataframe thead th {\n",
              "        text-align: right;\n",
              "    }\n",
              "</style>\n",
              "<table border=\"1\" class=\"dataframe\">\n",
              "  <thead>\n",
              "    <tr style=\"text-align: right;\">\n",
              "      <th></th>\n",
              "      <th>Kolom</th>\n",
              "      <th>persentasi_outlier</th>\n",
              "    </tr>\n",
              "  </thead>\n",
              "  <tbody>\n",
              "    <tr>\n",
              "      <th>0</th>\n",
              "      <td>TotalCharges</td>\n",
              "      <td>0.0</td>\n",
              "    </tr>\n",
              "  </tbody>\n",
              "</table>\n",
              "</div>\n",
              "      <button class=\"colab-df-convert\" onclick=\"convertToInteractive('df-9c42efeb-fca4-4494-9d34-56f43f017a3a')\"\n",
              "              title=\"Convert this dataframe to an interactive table.\"\n",
              "              style=\"display:none;\">\n",
              "        \n",
              "  <svg xmlns=\"http://www.w3.org/2000/svg\" height=\"24px\"viewBox=\"0 0 24 24\"\n",
              "       width=\"24px\">\n",
              "    <path d=\"M0 0h24v24H0V0z\" fill=\"none\"/>\n",
              "    <path d=\"M18.56 5.44l.94 2.06.94-2.06 2.06-.94-2.06-.94-.94-2.06-.94 2.06-2.06.94zm-11 1L8.5 8.5l.94-2.06 2.06-.94-2.06-.94L8.5 2.5l-.94 2.06-2.06.94zm10 10l.94 2.06.94-2.06 2.06-.94-2.06-.94-.94-2.06-.94 2.06-2.06.94z\"/><path d=\"M17.41 7.96l-1.37-1.37c-.4-.4-.92-.59-1.43-.59-.52 0-1.04.2-1.43.59L10.3 9.45l-7.72 7.72c-.78.78-.78 2.05 0 2.83L4 21.41c.39.39.9.59 1.41.59.51 0 1.02-.2 1.41-.59l7.78-7.78 2.81-2.81c.8-.78.8-2.07 0-2.86zM5.41 20L4 18.59l7.72-7.72 1.47 1.35L5.41 20z\"/>\n",
              "  </svg>\n",
              "      </button>\n",
              "      \n",
              "  <style>\n",
              "    .colab-df-container {\n",
              "      display:flex;\n",
              "      flex-wrap:wrap;\n",
              "      gap: 12px;\n",
              "    }\n",
              "\n",
              "    .colab-df-convert {\n",
              "      background-color: #E8F0FE;\n",
              "      border: none;\n",
              "      border-radius: 50%;\n",
              "      cursor: pointer;\n",
              "      display: none;\n",
              "      fill: #1967D2;\n",
              "      height: 32px;\n",
              "      padding: 0 0 0 0;\n",
              "      width: 32px;\n",
              "    }\n",
              "\n",
              "    .colab-df-convert:hover {\n",
              "      background-color: #E2EBFA;\n",
              "      box-shadow: 0px 1px 2px rgba(60, 64, 67, 0.3), 0px 1px 3px 1px rgba(60, 64, 67, 0.15);\n",
              "      fill: #174EA6;\n",
              "    }\n",
              "\n",
              "    [theme=dark] .colab-df-convert {\n",
              "      background-color: #3B4455;\n",
              "      fill: #D2E3FC;\n",
              "    }\n",
              "\n",
              "    [theme=dark] .colab-df-convert:hover {\n",
              "      background-color: #434B5C;\n",
              "      box-shadow: 0px 1px 3px 1px rgba(0, 0, 0, 0.15);\n",
              "      filter: drop-shadow(0px 1px 2px rgba(0, 0, 0, 0.3));\n",
              "      fill: #FFFFFF;\n",
              "    }\n",
              "  </style>\n",
              "\n",
              "      <script>\n",
              "        const buttonEl =\n",
              "          document.querySelector('#df-9c42efeb-fca4-4494-9d34-56f43f017a3a button.colab-df-convert');\n",
              "        buttonEl.style.display =\n",
              "          google.colab.kernel.accessAllowed ? 'block' : 'none';\n",
              "\n",
              "        async function convertToInteractive(key) {\n",
              "          const element = document.querySelector('#df-9c42efeb-fca4-4494-9d34-56f43f017a3a');\n",
              "          const dataTable =\n",
              "            await google.colab.kernel.invokeFunction('convertToInteractive',\n",
              "                                                     [key], {});\n",
              "          if (!dataTable) return;\n",
              "\n",
              "          const docLinkHtml = 'Like what you see? Visit the ' +\n",
              "            '<a target=\"_blank\" href=https://colab.research.google.com/notebooks/data_table.ipynb>data table notebook</a>'\n",
              "            + ' to learn more about interactive tables.';\n",
              "          element.innerHTML = '';\n",
              "          dataTable['output_type'] = 'display_data';\n",
              "          await google.colab.output.renderOutput(dataTable, element);\n",
              "          const docLink = document.createElement('div');\n",
              "          docLink.innerHTML = docLinkHtml;\n",
              "          element.appendChild(docLink);\n",
              "        }\n",
              "      </script>\n",
              "    </div>\n",
              "  </div>\n",
              "  "
            ]
          },
          "metadata": {},
          "execution_count": 198
        }
      ]
    },
    {
      "cell_type": "markdown",
      "source": [
        "#### 5.5 Features Selection"
      ],
      "metadata": {
        "id": "X-MlGThCbac2"
      }
    },
    {
      "cell_type": "code",
      "source": [
        "features_cat = X_train_cat.copy()\n",
        "\n",
        "# Encode categorical column\n",
        "encoder = LabelEncoder() \n",
        "\n",
        "for i in features_cat:\n",
        "    if features_cat[i].dtypes == 'object':\n",
        "        features_cat[i] = encoder.fit_transform(features_cat[i])"
      ],
      "metadata": {
        "id": "OkJVhEoKbdZq"
      },
      "execution_count": null,
      "outputs": []
    },
    {
      "cell_type": "code",
      "source": [
        "# Cek kolerasi pada kolom categorikal\n",
        "df_corr_cat_y = pd.concat([features_cat, y_train], axis=1)\n",
        "\n",
        "plt.figure(figsize=(15, 5))\n",
        "sns.heatmap(df_corr_cat_y.corr(), annot = True, vmin=0, vmax=1)\n",
        "plt.title('Korelasi pada kolom Kategori')"
      ],
      "metadata": {
        "id": "MO1j0DDUb8FV",
        "colab": {
          "base_uri": "https://localhost:8080/",
          "height": 429
        },
        "outputId": "d8045921-a9ad-406b-f6c0-8cd8e3a7998b"
      },
      "execution_count": null,
      "outputs": [
        {
          "output_type": "execute_result",
          "data": {
            "text/plain": [
              "Text(0.5, 1.0, 'Korelasi pada kolom Kategori')"
            ]
          },
          "metadata": {},
          "execution_count": 200
        },
        {
          "output_type": "display_data",
          "data": {
            "text/plain": [
              "<Figure size 1080x360 with 2 Axes>"
            ],
            "image/png": "[encoded data removed]"
          },
          "metadata": {
            "needs_background": "light"
          }
        }
      ]
    },
    {
      "cell_type": "code",
      "source": [
        "# Cek Kolerasi Kolom Numerik\n",
        "df_cor_num_y = pd.concat([X_train_num,y_train], axis=1)\n",
        "\n",
        "plt.figure(figsize=(15, 5))\n",
        "sns.heatmap(df_cor_num_y.corr(), annot = True, vmin=0, vmax=1)\n",
        "plt.title('Korelasi pada kolom Kategori')"
      ],
      "metadata": {
        "id": "f4aemrDkcfCP",
        "colab": {
          "base_uri": "https://localhost:8080/",
          "height": 353
        },
        "outputId": "ce12fd09-bb7b-4ee4-e585-8270d8b099cc"
      },
      "execution_count": null,
      "outputs": [
        {
          "output_type": "execute_result",
          "data": {
            "text/plain": [
              "Text(0.5, 1.0, 'Korelasi pada kolom Kategori')"
            ]
          },
          "metadata": {},
          "execution_count": 201
        },
        {
          "output_type": "display_data",
          "data": {
            "text/plain": [
              "<Figure size 1080x360 with 2 Axes>"
            ],
            "image/png": "[encoded data removed]"
          },
          "metadata": {
            "needs_background": "light"
          }
        }
      ]
    },
    {
      "cell_type": "code",
      "source": [
        "# simpan Features selection kedalam variabel\n",
        "cat_columns_select = ['Partner', 'OnlineBackup', 'DeviceProtection', 'TechSupport', 'StreamingTV', 'StreamingMovies','Contract'] # Total 8 kolom\n",
        "num_columns_select = ['SeniorCitizen','tenure', 'MonthlyCharges', 'TotalCharges'] #total 4 kolom\n",
        "\n",
        "print('Categorical column selected: ', cat_columns_select)\n",
        "print('Numerikal column selected: ', num_columns_select)"
      ],
      "metadata": {
        "id": "xcqTglFAiSOy",
        "colab": {
          "base_uri": "https://localhost:8080/"
        },
        "outputId": "b65a4d48-ee3e-4c1e-8772-e7c645171e30"
      },
      "execution_count": null,
      "outputs": [
        {
          "output_type": "stream",
          "name": "stdout",
          "text": [
            "Categorical column selected:  ['Partner', 'OnlineBackup', 'DeviceProtection', 'TechSupport', 'StreamingTV', 'StreamingMovies', 'Contract']\n",
            "Numerikal column selected:  ['SeniorCitizen', 'tenure', 'MonthlyCharges', 'TotalCharges']\n"
          ]
        }
      ]
    },
    {
      "cell_type": "code",
      "source": [
        "# Split Train-Set, val-set and Test-Set setelah features selection berdasrkan tipe kolom (Numerical/Categorical)\n",
        "\n",
        "X_train_num_sel = X_train_num_tr[num_columns_select]\n",
        "X_train_cat_sel = X_train_cat[cat_columns_select]\n",
        "\n",
        "X_test_num_sel = X_test_num_tr[num_columns_select]\n",
        "X_test_cat_sel = X_test_cat[cat_columns_select]\n",
        "\n",
        "X_val_num_sel = X_val_num_tr[num_columns_select]\n",
        "X_val_cat_sel = X_val_cat[cat_columns_select]"
      ],
      "metadata": {
        "id": "HYLK8p4VkyKq"
      },
      "execution_count": null,
      "outputs": []
    },
    {
      "cell_type": "markdown",
      "source": [
        "#### 5.6 Scaling dan Encoding"
      ],
      "metadata": {
        "id": "dFG-Qgqv24OC"
      }
    },
    {
      "cell_type": "code",
      "source": [
        "# Scaling data numerik\n",
        "scaler = StandardScaler()\n",
        "scaler.fit(X_train_num_sel)\n",
        "\n",
        "# Scaling X_train\n",
        "X_train_scaled = scaler.transform(X_train_num_sel)\n",
        "X_train_scaled = pd.DataFrame(X_train_scaled)\n",
        "X_train_scaled.columns = num_columns_select\n",
        "\n",
        "\n",
        "# Scaling X_val\n",
        "X_val_scaled = scaler.transform(X_val_num_sel)\n",
        "X_val_scaled = pd.DataFrame(X_val_scaled)\n",
        "X_val_scaled.columns = num_columns_select\n",
        "\n",
        "# Scaling X_test\n",
        "X_test_scaled = scaler.transform(X_test_num_sel)\n",
        "X_test_scaled = pd.DataFrame(X_test_scaled)\n",
        "X_test_scaled.columns = num_columns_select"
      ],
      "metadata": {
        "id": "hQ9McLoi23Wa"
      },
      "execution_count": null,
      "outputs": []
    },
    {
      "cell_type": "code",
      "source": [
        "X_train_scaled.reset_index(drop=True, inplace=True)\n",
        "X_val_scaled.reset_index(drop=True, inplace=True)\n",
        "X_test_scaled.reset_index(drop=True, inplace=True)\n",
        "X_train_cat_sel.reset_index(drop=True, inplace=True)\n",
        "X_test_cat_sel.reset_index(drop=True, inplace=True)\n",
        "X_val_cat_sel.reset_index(drop=True, inplace=True)\n",
        "y_train.reset_index(drop=True, inplace=True)\n",
        "y_test.reset_index(drop=True, inplace=True)\n",
        "y_val.reset_index(drop=True, inplace=True)"
      ],
      "metadata": {
        "id": "_HWiVs499emq"
      },
      "execution_count": null,
      "outputs": []
    },
    {
      "cell_type": "code",
      "source": [
        "X_train_bal = X_train_scaled.join(X_train_cat_sel)"
      ],
      "metadata": {
        "id": "tlHJ9pyV5jSr"
      },
      "execution_count": null,
      "outputs": []
    },
    {
      "cell_type": "markdown",
      "source": [
        "#### 5.7 Handling data imbalance"
      ],
      "metadata": {
        "id": "CYKGG9ltLx7z"
      }
    },
    {
      "cell_type": "code",
      "source": [
        "from imblearn.over_sampling import SMOTENC\n",
        "\n",
        "smotenc = SMOTENC([4,5, 6,7,8,9,10], random_state = 42)\n",
        "X_train_balanced, y_train_balanced = smotenc.fit_resample(X_train_bal, y_train)\n",
        "y_train_balanced.value_counts()"
      ],
      "metadata": {
        "id": "7akYo7cR-he2",
        "colab": {
          "base_uri": "https://localhost:8080/"
        },
        "outputId": "858ebdcf-030f-4d0e-92ec-2ea1d1d0880b"
      },
      "execution_count": null,
      "outputs": [
        {
          "output_type": "execute_result",
          "data": {
            "text/plain": [
              "1    3732\n",
              "0    3732\n",
              "Name: Churn-enc, dtype: int64"
            ]
          },
          "metadata": {},
          "execution_count": 208
        }
      ]
    },
    {
      "cell_type": "code",
      "source": [
        "# Split between Numerical Features and Categorical Features\n",
        "\n",
        "X_train_balanced_num = X_train_balanced[num_columns_select].reset_index().drop(['index'], axis = 1)\n",
        "X_train_balanced_cat = X_train_balanced[cat_columns_select].reset_index().drop(['index'], axis = 1)"
      ],
      "metadata": {
        "id": "JKvrT2qXAPNY"
      },
      "execution_count": null,
      "outputs": []
    },
    {
      "cell_type": "code",
      "source": [
        "# One Hot Encoder\n",
        "encoder = OneHotEncoder(sparse=False)\n",
        "encoder.fit(X_train_balanced_cat)\n",
        "X_train_enc = encoder.transform(X_train_balanced_cat)\n",
        "X_val_enc = encoder.transform(X_val_cat_sel)\n",
        "X_test_enc = encoder.transform(X_test_cat_sel)\n",
        "\n",
        "# Di bentuk dalam data Frame\n",
        "X_train_enc = pd.DataFrame(X_train_enc)\n",
        "X_val_enc = pd.DataFrame(X_val_enc)\n",
        "X_test_enc = pd.DataFrame(X_test_enc)\n",
        "X_train_enc.columns = encoder.get_feature_names()\n",
        "X_val_enc.columns = encoder.get_feature_names()\n",
        "X_test_enc.columns = encoder.get_feature_names()"
      ],
      "metadata": {
        "id": "XWF4DEC7AeFT"
      },
      "execution_count": null,
      "outputs": []
    },
    {
      "cell_type": "code",
      "source": [
        "# Menggabungkan data Numerikal dan kategorikal pada X_train, X_val dan X_test\n",
        "X_train_final = X_train_balanced_num.join(X_train_enc)\n",
        "X_val_final = X_val_scaled.join(X_val_enc)\n",
        "X_test_final = X_test_scaled.join(X_test_enc)"
      ],
      "metadata": {
        "id": "PlH94JMVB5l6"
      },
      "execution_count": null,
      "outputs": []
    },
    {
      "cell_type": "markdown",
      "source": [
        "# 6. Pipeline"
      ],
      "metadata": {
        "id": "t9iMw8WUGbqD"
      }
    },
    {
      "cell_type": "code",
      "source": [
        "train_dataset = tf.data.Dataset.from_tensor_slices((X_train_final,y_train_balanced)).shuffle(1000).batch(23)\n",
        "val_dataset = tf.data.Dataset.from_tensor_slices((X_val_final,y_val)).shuffle(1000).batch(23)"
      ],
      "metadata": {
        "id": "HAihoUoIGj3H"
      },
      "execution_count": null,
      "outputs": []
    },
    {
      "cell_type": "markdown",
      "source": [
        "# 7. Model Definition"
      ],
      "metadata": {
        "id": "y7rl0hdSqBw4"
      }
    },
    {
      "cell_type": "markdown",
      "source": [
        "> Bagian ini berisi cell untuk mendefinisikan model. Jelaskan alasan menggunakan suatu algoritma/model, hyperparameter yang dipakai, jenis penggunaan metrics yang dipakai, dan hal lain yang terkait dengan model."
      ],
      "metadata": {
        "id": "3F7biYnGqHJ1"
      }
    },
    {
      "cell_type": "markdown",
      "source": [
        "#### 7.1 Sequential API Model Definition"
      ],
      "metadata": {
        "id": "R863W9RZMF2p"
      }
    },
    {
      "cell_type": "code",
      "source": [
        "# buat arsitekturnya\n",
        "model = Sequential()\n",
        "model.add(Flatten(input_shape=X_train_final.shape[1:]))\n",
        "model.add(Dense(13, activation='relu')) # hidden layer 1\n",
        "model.add(Dense(7, activation='relu')) # hidden layer 2\n",
        "model.add(Dense(1, activation='sigmoid')) # output layer\n",
        "\n",
        "# compile\n",
        "model.compile(loss='binary_crossentropy',\n",
        "              optimizer='adam', # paling modern\n",
        "              metrics=['accuracy'])"
      ],
      "metadata": {
        "id": "bdZrBc6VqEwZ"
      },
      "execution_count": null,
      "outputs": []
    },
    {
      "cell_type": "markdown",
      "source": [
        "#### 7.2 Functional API Model Definition"
      ],
      "metadata": {
        "id": "nxCE0B2WMNjF"
      }
    },
    {
      "cell_type": "code",
      "source": [
        "# deklarasikan arsitektur\n",
        "data_in = Input(shape=X_train_final.shape[1:])\n",
        "data_flat = Flatten()(data_in)\n",
        "data_drop = Dropout(0.25)(data_flat)\n",
        "hidden_1 = Dense(13, activation='elu')(data_drop)\n",
        "hidden_drop = Dropout(0.25)(hidden_1)\n",
        "hidden_2 = Dense(7, activation='elu')(hidden_drop)\n",
        "hidden_drop_2 = Dropout(0.25)(hidden_2)\n",
        "out = Dense(1, activation='sigmoid')(hidden_drop_2)\n",
        "\n",
        "model2 = Model(inputs=data_in, outputs=out)\n",
        "\n",
        "# compile\n",
        "model2.compile(loss='binary_crossentropy',\n",
        "              optimizer='adam', # paling modern\n",
        "              metrics=['accuracy'])"
      ],
      "metadata": {
        "id": "XzHRV3OLgqRr"
      },
      "execution_count": null,
      "outputs": []
    },
    {
      "cell_type": "markdown",
      "source": [
        "# 8. Model Training"
      ],
      "metadata": {
        "id": "xRITFZaPqRKs"
      }
    },
    {
      "cell_type": "markdown",
      "source": [
        "> Cell pada bagian ini hanya berisi code untuk melatih model dan output yang dihasilkan. Lakukan beberapa kali proses training dengan hyperparameter yang berbeda untuk melihat hasil yang didapatkan. Analisis dan narasikan hasil ini pada bagian Model Evaluation."
      ],
      "metadata": {
        "id": "94Uz_7NdqV3J"
      }
    },
    {
      "cell_type": "markdown",
      "source": [
        "#### 8.1 Training Model Sequential API"
      ],
      "metadata": {
        "id": "hjf3K140Ma5r"
      }
    },
    {
      "cell_type": "code",
      "source": [
        "# train\n",
        "history = model.fit(X_train_final, y_train_balanced, epochs=100, validation_data=(X_val_final, y_val))"
      ],
      "metadata": {
        "id": "lhJ3OKIGqS9B",
        "colab": {
          "base_uri": "https://localhost:8080/"
        },
        "outputId": "aa3acbd2-90ed-40db-9d37-dd3e1cd04837"
      },
      "execution_count": null,
      "outputs": [
        {
          "output_type": "stream",
          "name": "stdout",
          "text": [
            "Epoch 1/100\n",
            "234/234 [==============================] - 1s 3ms/step - loss: 0.5463 - accuracy: 0.7294 - val_loss: 0.4908 - val_accuracy: 0.7460\n",
            "Epoch 2/100\n",
            "234/234 [==============================] - 0s 2ms/step - loss: 0.4853 - accuracy: 0.7666 - val_loss: 0.4689 - val_accuracy: 0.7602\n",
            "Epoch 3/100\n",
            "234/234 [==============================] - 0s 2ms/step - loss: 0.4775 - accuracy: 0.7693 - val_loss: 0.4578 - val_accuracy: 0.7691\n",
            "Epoch 4/100\n",
            "234/234 [==============================] - 1s 2ms/step - loss: 0.4734 - accuracy: 0.7742 - val_loss: 0.4625 - val_accuracy: 0.7655\n",
            "Epoch 5/100\n",
            "234/234 [==============================] - 0s 2ms/step - loss: 0.4711 - accuracy: 0.7759 - val_loss: 0.4605 - val_accuracy: 0.7638\n",
            "Epoch 6/100\n",
            "234/234 [==============================] - 0s 2ms/step - loss: 0.4690 - accuracy: 0.7710 - val_loss: 0.4786 - val_accuracy: 0.7620\n",
            "Epoch 7/100\n",
            "234/234 [==============================] - 0s 2ms/step - loss: 0.4674 - accuracy: 0.7751 - val_loss: 0.4560 - val_accuracy: 0.7673\n",
            "Epoch 8/100\n",
            "234/234 [==============================] - 1s 2ms/step - loss: 0.4668 - accuracy: 0.7753 - val_loss: 0.4701 - val_accuracy: 0.7584\n",
            "Epoch 9/100\n",
            "234/234 [==============================] - 0s 2ms/step - loss: 0.4650 - accuracy: 0.7763 - val_loss: 0.4739 - val_accuracy: 0.7620\n",
            "Epoch 10/100\n",
            "234/234 [==============================] - 0s 2ms/step - loss: 0.4640 - accuracy: 0.7773 - val_loss: 0.4757 - val_accuracy: 0.7602\n",
            "Epoch 11/100\n",
            "234/234 [==============================] - 0s 2ms/step - loss: 0.4635 - accuracy: 0.7777 - val_loss: 0.4775 - val_accuracy: 0.7602\n",
            "Epoch 12/100\n",
            "234/234 [==============================] - 1s 2ms/step - loss: 0.4619 - accuracy: 0.7777 - val_loss: 0.4857 - val_accuracy: 0.7549\n",
            "Epoch 13/100\n",
            "234/234 [==============================] - 1s 2ms/step - loss: 0.4615 - accuracy: 0.7777 - val_loss: 0.4620 - val_accuracy: 0.7673\n",
            "Epoch 14/100\n",
            "234/234 [==============================] - 1s 2ms/step - loss: 0.4605 - accuracy: 0.7796 - val_loss: 0.4604 - val_accuracy: 0.7673\n",
            "Epoch 15/100\n",
            "234/234 [==============================] - 0s 2ms/step - loss: 0.4594 - accuracy: 0.7795 - val_loss: 0.4780 - val_accuracy: 0.7549\n",
            "Epoch 16/100\n",
            "234/234 [==============================] - 0s 2ms/step - loss: 0.4591 - accuracy: 0.7804 - val_loss: 0.4719 - val_accuracy: 0.7602\n",
            "Epoch 17/100\n",
            "234/234 [==============================] - 0s 2ms/step - loss: 0.4578 - accuracy: 0.7830 - val_loss: 0.4748 - val_accuracy: 0.7602\n",
            "Epoch 18/100\n",
            "234/234 [==============================] - 0s 2ms/step - loss: 0.4573 - accuracy: 0.7816 - val_loss: 0.4683 - val_accuracy: 0.7673\n",
            "Epoch 19/100\n",
            "234/234 [==============================] - 0s 2ms/step - loss: 0.4567 - accuracy: 0.7850 - val_loss: 0.4870 - val_accuracy: 0.7531\n",
            "Epoch 20/100\n",
            "234/234 [==============================] - 0s 2ms/step - loss: 0.4558 - accuracy: 0.7844 - val_loss: 0.4818 - val_accuracy: 0.7567\n",
            "Epoch 21/100\n",
            "234/234 [==============================] - 0s 2ms/step - loss: 0.4550 - accuracy: 0.7838 - val_loss: 0.4794 - val_accuracy: 0.7602\n",
            "Epoch 22/100\n",
            "234/234 [==============================] - 0s 2ms/step - loss: 0.4547 - accuracy: 0.7826 - val_loss: 0.4723 - val_accuracy: 0.7584\n",
            "Epoch 23/100\n",
            "234/234 [==============================] - 0s 2ms/step - loss: 0.4543 - accuracy: 0.7819 - val_loss: 0.4796 - val_accuracy: 0.7567\n",
            "Epoch 24/100\n",
            "234/234 [==============================] - 0s 2ms/step - loss: 0.4538 - accuracy: 0.7814 - val_loss: 0.4663 - val_accuracy: 0.7655\n",
            "Epoch 25/100\n",
            "234/234 [==============================] - 0s 2ms/step - loss: 0.4534 - accuracy: 0.7839 - val_loss: 0.4809 - val_accuracy: 0.7602\n",
            "Epoch 26/100\n",
            "234/234 [==============================] - 0s 2ms/step - loss: 0.4526 - accuracy: 0.7846 - val_loss: 0.4820 - val_accuracy: 0.7549\n",
            "Epoch 27/100\n",
            "234/234 [==============================] - 0s 2ms/step - loss: 0.4526 - accuracy: 0.7830 - val_loss: 0.4734 - val_accuracy: 0.7638\n",
            "Epoch 28/100\n",
            "234/234 [==============================] - 1s 2ms/step - loss: 0.4515 - accuracy: 0.7854 - val_loss: 0.4713 - val_accuracy: 0.7655\n",
            "Epoch 29/100\n",
            "234/234 [==============================] - 0s 2ms/step - loss: 0.4509 - accuracy: 0.7859 - val_loss: 0.4759 - val_accuracy: 0.7620\n",
            "Epoch 30/100\n",
            "234/234 [==============================] - 0s 2ms/step - loss: 0.4508 - accuracy: 0.7880 - val_loss: 0.4764 - val_accuracy: 0.7584\n",
            "Epoch 31/100\n",
            "234/234 [==============================] - 0s 2ms/step - loss: 0.4503 - accuracy: 0.7827 - val_loss: 0.4696 - val_accuracy: 0.7584\n",
            "Epoch 32/100\n",
            "234/234 [==============================] - 0s 2ms/step - loss: 0.4499 - accuracy: 0.7874 - val_loss: 0.4633 - val_accuracy: 0.7673\n",
            "Epoch 33/100\n",
            "234/234 [==============================] - 0s 2ms/step - loss: 0.4495 - accuracy: 0.7870 - val_loss: 0.4661 - val_accuracy: 0.7691\n",
            "Epoch 34/100\n",
            "234/234 [==============================] - 0s 2ms/step - loss: 0.4487 - accuracy: 0.7891 - val_loss: 0.4681 - val_accuracy: 0.7602\n",
            "Epoch 35/100\n",
            "234/234 [==============================] - 0s 2ms/step - loss: 0.4479 - accuracy: 0.7880 - val_loss: 0.4860 - val_accuracy: 0.7602\n",
            "Epoch 36/100\n",
            "234/234 [==============================] - 1s 2ms/step - loss: 0.4474 - accuracy: 0.7926 - val_loss: 0.4726 - val_accuracy: 0.7602\n",
            "Epoch 37/100\n",
            "234/234 [==============================] - 0s 2ms/step - loss: 0.4465 - accuracy: 0.7895 - val_loss: 0.4676 - val_accuracy: 0.7709\n",
            "Epoch 38/100\n",
            "234/234 [==============================] - 0s 2ms/step - loss: 0.4462 - accuracy: 0.7907 - val_loss: 0.4638 - val_accuracy: 0.7780\n",
            "Epoch 39/100\n",
            "234/234 [==============================] - 0s 2ms/step - loss: 0.4466 - accuracy: 0.7893 - val_loss: 0.4832 - val_accuracy: 0.7549\n",
            "Epoch 40/100\n",
            "234/234 [==============================] - 0s 2ms/step - loss: 0.4460 - accuracy: 0.7910 - val_loss: 0.4756 - val_accuracy: 0.7655\n",
            "Epoch 41/100\n",
            "234/234 [==============================] - 0s 2ms/step - loss: 0.4455 - accuracy: 0.7879 - val_loss: 0.4760 - val_accuracy: 0.7673\n",
            "Epoch 42/100\n",
            "234/234 [==============================] - 0s 2ms/step - loss: 0.4448 - accuracy: 0.7875 - val_loss: 0.4665 - val_accuracy: 0.7691\n",
            "Epoch 43/100\n",
            "234/234 [==============================] - 0s 2ms/step - loss: 0.4451 - accuracy: 0.7909 - val_loss: 0.4652 - val_accuracy: 0.7691\n",
            "Epoch 44/100\n",
            "234/234 [==============================] - 0s 2ms/step - loss: 0.4446 - accuracy: 0.7862 - val_loss: 0.4594 - val_accuracy: 0.7709\n",
            "Epoch 45/100\n",
            "234/234 [==============================] - 0s 2ms/step - loss: 0.4446 - accuracy: 0.7914 - val_loss: 0.4763 - val_accuracy: 0.7531\n",
            "Epoch 46/100\n",
            "234/234 [==============================] - 0s 2ms/step - loss: 0.4438 - accuracy: 0.7923 - val_loss: 0.4722 - val_accuracy: 0.7673\n",
            "Epoch 47/100\n",
            "234/234 [==============================] - 0s 2ms/step - loss: 0.4424 - accuracy: 0.7942 - val_loss: 0.4794 - val_accuracy: 0.7513\n",
            "Epoch 48/100\n",
            "234/234 [==============================] - 0s 2ms/step - loss: 0.4432 - accuracy: 0.7905 - val_loss: 0.4618 - val_accuracy: 0.7673\n",
            "Epoch 49/100\n",
            "234/234 [==============================] - 0s 2ms/step - loss: 0.4426 - accuracy: 0.7915 - val_loss: 0.4917 - val_accuracy: 0.7513\n",
            "Epoch 50/100\n",
            "234/234 [==============================] - 0s 2ms/step - loss: 0.4416 - accuracy: 0.7915 - val_loss: 0.4581 - val_accuracy: 0.7549\n",
            "Epoch 51/100\n",
            "234/234 [==============================] - 0s 2ms/step - loss: 0.4426 - accuracy: 0.7907 - val_loss: 0.4679 - val_accuracy: 0.7673\n",
            "Epoch 52/100\n",
            "234/234 [==============================] - 0s 2ms/step - loss: 0.4413 - accuracy: 0.7913 - val_loss: 0.4791 - val_accuracy: 0.7496\n",
            "Epoch 53/100\n",
            "234/234 [==============================] - 0s 2ms/step - loss: 0.4417 - accuracy: 0.7915 - val_loss: 0.4780 - val_accuracy: 0.7549\n",
            "Epoch 54/100\n",
            "234/234 [==============================] - 0s 2ms/step - loss: 0.4406 - accuracy: 0.7910 - val_loss: 0.4786 - val_accuracy: 0.7638\n",
            "Epoch 55/100\n",
            "234/234 [==============================] - 0s 2ms/step - loss: 0.4401 - accuracy: 0.7930 - val_loss: 0.4791 - val_accuracy: 0.7709\n",
            "Epoch 56/100\n",
            "234/234 [==============================] - 0s 2ms/step - loss: 0.4408 - accuracy: 0.7935 - val_loss: 0.4650 - val_accuracy: 0.7638\n",
            "Epoch 57/100\n",
            "234/234 [==============================] - 0s 2ms/step - loss: 0.4402 - accuracy: 0.7921 - val_loss: 0.4794 - val_accuracy: 0.7602\n",
            "Epoch 58/100\n",
            "234/234 [==============================] - 0s 2ms/step - loss: 0.4394 - accuracy: 0.7918 - val_loss: 0.4746 - val_accuracy: 0.7620\n",
            "Epoch 59/100\n",
            "234/234 [==============================] - 1s 2ms/step - loss: 0.4393 - accuracy: 0.7938 - val_loss: 0.4679 - val_accuracy: 0.7620\n",
            "Epoch 60/100\n",
            "234/234 [==============================] - 0s 2ms/step - loss: 0.4388 - accuracy: 0.7926 - val_loss: 0.4735 - val_accuracy: 0.7567\n",
            "Epoch 61/100\n",
            "234/234 [==============================] - 0s 2ms/step - loss: 0.4374 - accuracy: 0.7974 - val_loss: 0.4717 - val_accuracy: 0.7726\n",
            "Epoch 62/100\n",
            "234/234 [==============================] - 0s 2ms/step - loss: 0.4380 - accuracy: 0.7956 - val_loss: 0.4801 - val_accuracy: 0.7567\n",
            "Epoch 63/100\n",
            "234/234 [==============================] - 0s 2ms/step - loss: 0.4383 - accuracy: 0.7915 - val_loss: 0.4741 - val_accuracy: 0.7549\n",
            "Epoch 64/100\n",
            "234/234 [==============================] - 0s 2ms/step - loss: 0.4370 - accuracy: 0.7925 - val_loss: 0.4802 - val_accuracy: 0.7584\n",
            "Epoch 65/100\n",
            "234/234 [==============================] - 0s 2ms/step - loss: 0.4375 - accuracy: 0.7976 - val_loss: 0.4818 - val_accuracy: 0.7531\n",
            "Epoch 66/100\n",
            "234/234 [==============================] - 0s 2ms/step - loss: 0.4372 - accuracy: 0.7926 - val_loss: 0.4681 - val_accuracy: 0.7638\n",
            "Epoch 67/100\n",
            "234/234 [==============================] - 0s 2ms/step - loss: 0.4372 - accuracy: 0.7957 - val_loss: 0.4755 - val_accuracy: 0.7584\n",
            "Epoch 68/100\n",
            "234/234 [==============================] - 0s 2ms/step - loss: 0.4369 - accuracy: 0.7950 - val_loss: 0.4811 - val_accuracy: 0.7549\n",
            "Epoch 69/100\n",
            "234/234 [==============================] - 0s 2ms/step - loss: 0.4365 - accuracy: 0.7933 - val_loss: 0.4783 - val_accuracy: 0.7567\n",
            "Epoch 70/100\n",
            "234/234 [==============================] - 0s 2ms/step - loss: 0.4363 - accuracy: 0.7937 - val_loss: 0.4641 - val_accuracy: 0.7815\n",
            "Epoch 71/100\n",
            "234/234 [==============================] - 0s 2ms/step - loss: 0.4357 - accuracy: 0.7918 - val_loss: 0.4590 - val_accuracy: 0.7673\n",
            "Epoch 72/100\n",
            "234/234 [==============================] - 0s 2ms/step - loss: 0.4359 - accuracy: 0.7961 - val_loss: 0.4719 - val_accuracy: 0.7567\n",
            "Epoch 73/100\n",
            "234/234 [==============================] - 0s 2ms/step - loss: 0.4364 - accuracy: 0.7937 - val_loss: 0.4826 - val_accuracy: 0.7513\n",
            "Epoch 74/100\n",
            "234/234 [==============================] - 0s 2ms/step - loss: 0.4349 - accuracy: 0.7958 - val_loss: 0.4776 - val_accuracy: 0.7602\n",
            "Epoch 75/100\n",
            "234/234 [==============================] - 0s 2ms/step - loss: 0.4349 - accuracy: 0.7938 - val_loss: 0.4739 - val_accuracy: 0.7584\n",
            "Epoch 76/100\n",
            "234/234 [==============================] - 0s 2ms/step - loss: 0.4354 - accuracy: 0.7946 - val_loss: 0.4773 - val_accuracy: 0.7549\n",
            "Epoch 77/100\n",
            "234/234 [==============================] - 0s 2ms/step - loss: 0.4343 - accuracy: 0.7965 - val_loss: 0.4839 - val_accuracy: 0.7442\n",
            "Epoch 78/100\n",
            "234/234 [==============================] - 0s 2ms/step - loss: 0.4341 - accuracy: 0.7965 - val_loss: 0.4889 - val_accuracy: 0.7513\n",
            "Epoch 79/100\n",
            "234/234 [==============================] - 0s 2ms/step - loss: 0.4353 - accuracy: 0.7954 - val_loss: 0.4752 - val_accuracy: 0.7602\n",
            "Epoch 80/100\n",
            "234/234 [==============================] - 0s 2ms/step - loss: 0.4346 - accuracy: 0.7981 - val_loss: 0.4792 - val_accuracy: 0.7549\n",
            "Epoch 81/100\n",
            "234/234 [==============================] - 0s 2ms/step - loss: 0.4342 - accuracy: 0.7949 - val_loss: 0.4818 - val_accuracy: 0.7584\n",
            "Epoch 82/100\n",
            "234/234 [==============================] - 0s 2ms/step - loss: 0.4341 - accuracy: 0.7947 - val_loss: 0.4688 - val_accuracy: 0.7584\n",
            "Epoch 83/100\n",
            "234/234 [==============================] - 0s 2ms/step - loss: 0.4336 - accuracy: 0.7950 - val_loss: 0.4793 - val_accuracy: 0.7567\n",
            "Epoch 84/100\n",
            "234/234 [==============================] - 0s 2ms/step - loss: 0.4335 - accuracy: 0.7973 - val_loss: 0.4549 - val_accuracy: 0.7815\n",
            "Epoch 85/100\n",
            "234/234 [==============================] - 0s 2ms/step - loss: 0.4337 - accuracy: 0.7981 - val_loss: 0.4643 - val_accuracy: 0.7567\n",
            "Epoch 86/100\n",
            "234/234 [==============================] - 0s 2ms/step - loss: 0.4329 - accuracy: 0.7966 - val_loss: 0.4645 - val_accuracy: 0.7549\n",
            "Epoch 87/100\n",
            "234/234 [==============================] - 0s 2ms/step - loss: 0.4328 - accuracy: 0.7974 - val_loss: 0.4649 - val_accuracy: 0.7709\n",
            "Epoch 88/100\n",
            "234/234 [==============================] - 0s 2ms/step - loss: 0.4325 - accuracy: 0.7973 - val_loss: 0.4679 - val_accuracy: 0.7620\n",
            "Epoch 89/100\n",
            "234/234 [==============================] - 0s 2ms/step - loss: 0.4327 - accuracy: 0.7954 - val_loss: 0.4665 - val_accuracy: 0.7620\n",
            "Epoch 90/100\n",
            "234/234 [==============================] - 0s 2ms/step - loss: 0.4322 - accuracy: 0.7961 - val_loss: 0.4676 - val_accuracy: 0.7549\n",
            "Epoch 91/100\n",
            "234/234 [==============================] - 0s 2ms/step - loss: 0.4322 - accuracy: 0.7968 - val_loss: 0.4761 - val_accuracy: 0.7602\n",
            "Epoch 92/100\n",
            "234/234 [==============================] - 0s 2ms/step - loss: 0.4320 - accuracy: 0.7964 - val_loss: 0.4721 - val_accuracy: 0.7584\n",
            "Epoch 93/100\n",
            "234/234 [==============================] - 0s 2ms/step - loss: 0.4310 - accuracy: 0.7978 - val_loss: 0.5051 - val_accuracy: 0.7407\n",
            "Epoch 94/100\n",
            "234/234 [==============================] - 0s 2ms/step - loss: 0.4326 - accuracy: 0.7969 - val_loss: 0.4780 - val_accuracy: 0.7602\n",
            "Epoch 95/100\n",
            "234/234 [==============================] - 0s 2ms/step - loss: 0.4315 - accuracy: 0.7980 - val_loss: 0.4982 - val_accuracy: 0.7478\n",
            "Epoch 96/100\n",
            "234/234 [==============================] - 0s 2ms/step - loss: 0.4313 - accuracy: 0.7988 - val_loss: 0.4912 - val_accuracy: 0.7442\n",
            "Epoch 97/100\n",
            "234/234 [==============================] - 0s 2ms/step - loss: 0.4320 - accuracy: 0.7968 - val_loss: 0.4693 - val_accuracy: 0.7620\n",
            "Epoch 98/100\n",
            "234/234 [==============================] - 0s 2ms/step - loss: 0.4312 - accuracy: 0.7953 - val_loss: 0.4894 - val_accuracy: 0.7496\n",
            "Epoch 99/100\n",
            "234/234 [==============================] - 0s 2ms/step - loss: 0.4312 - accuracy: 0.7974 - val_loss: 0.4696 - val_accuracy: 0.7709\n",
            "Epoch 100/100\n",
            "234/234 [==============================] - 0s 2ms/step - loss: 0.4315 - accuracy: 0.7968 - val_loss: 0.4813 - val_accuracy: 0.7513\n"
          ]
        }
      ]
    },
    {
      "cell_type": "markdown",
      "source": [
        "#### 8.2 Training Model Functional API"
      ],
      "metadata": {
        "id": "dvFgE9qPMlEW"
      }
    },
    {
      "cell_type": "code",
      "source": [
        "# train\n",
        "history2 = model2.fit(X_train_final, y_train_balanced, epochs=100, validation_data=(X_val_final, y_val))"
      ],
      "metadata": {
        "id": "Q9_5GskShsFW",
        "colab": {
          "base_uri": "https://localhost:8080/"
        },
        "outputId": "f186d325-0c30-492d-ff07-1e7c0a5fbccc"
      },
      "execution_count": null,
      "outputs": [
        {
          "output_type": "stream",
          "name": "stdout",
          "text": [
            "Epoch 1/100\n",
            "234/234 [==============================] - 1s 3ms/step - loss: 0.6334 - accuracy: 0.6513 - val_loss: 0.5220 - val_accuracy: 0.7425\n",
            "Epoch 2/100\n",
            "234/234 [==============================] - 0s 2ms/step - loss: 0.5677 - accuracy: 0.7182 - val_loss: 0.5065 - val_accuracy: 0.7620\n",
            "Epoch 3/100\n",
            "234/234 [==============================] - 0s 2ms/step - loss: 0.5544 - accuracy: 0.7315 - val_loss: 0.5024 - val_accuracy: 0.7673\n",
            "Epoch 4/100\n",
            "234/234 [==============================] - 0s 2ms/step - loss: 0.5446 - accuracy: 0.7296 - val_loss: 0.5068 - val_accuracy: 0.7638\n",
            "Epoch 5/100\n",
            "234/234 [==============================] - 0s 2ms/step - loss: 0.5374 - accuracy: 0.7358 - val_loss: 0.4960 - val_accuracy: 0.7691\n",
            "Epoch 6/100\n",
            "234/234 [==============================] - 0s 2ms/step - loss: 0.5347 - accuracy: 0.7346 - val_loss: 0.4878 - val_accuracy: 0.7691\n",
            "Epoch 7/100\n",
            "234/234 [==============================] - 1s 2ms/step - loss: 0.5294 - accuracy: 0.7476 - val_loss: 0.4841 - val_accuracy: 0.7726\n",
            "Epoch 8/100\n",
            "234/234 [==============================] - 0s 2ms/step - loss: 0.5377 - accuracy: 0.7389 - val_loss: 0.4778 - val_accuracy: 0.7798\n",
            "Epoch 9/100\n",
            "234/234 [==============================] - 0s 2ms/step - loss: 0.5305 - accuracy: 0.7483 - val_loss: 0.4901 - val_accuracy: 0.7709\n",
            "Epoch 10/100\n",
            "234/234 [==============================] - 1s 2ms/step - loss: 0.5221 - accuracy: 0.7519 - val_loss: 0.4802 - val_accuracy: 0.7780\n",
            "Epoch 11/100\n",
            "234/234 [==============================] - 0s 2ms/step - loss: 0.5293 - accuracy: 0.7480 - val_loss: 0.4931 - val_accuracy: 0.7638\n",
            "Epoch 12/100\n",
            "234/234 [==============================] - 0s 2ms/step - loss: 0.5273 - accuracy: 0.7454 - val_loss: 0.4920 - val_accuracy: 0.7620\n",
            "Epoch 13/100\n",
            "234/234 [==============================] - 0s 2ms/step - loss: 0.5269 - accuracy: 0.7454 - val_loss: 0.4844 - val_accuracy: 0.7709\n",
            "Epoch 14/100\n",
            "234/234 [==============================] - 0s 2ms/step - loss: 0.5183 - accuracy: 0.7452 - val_loss: 0.4937 - val_accuracy: 0.7584\n",
            "Epoch 15/100\n",
            "234/234 [==============================] - 1s 3ms/step - loss: 0.5266 - accuracy: 0.7462 - val_loss: 0.4861 - val_accuracy: 0.7673\n",
            "Epoch 16/100\n",
            "234/234 [==============================] - 1s 5ms/step - loss: 0.5227 - accuracy: 0.7512 - val_loss: 0.4891 - val_accuracy: 0.7673\n",
            "Epoch 17/100\n",
            "234/234 [==============================] - 0s 2ms/step - loss: 0.5178 - accuracy: 0.7525 - val_loss: 0.4898 - val_accuracy: 0.7602\n",
            "Epoch 18/100\n",
            "234/234 [==============================] - 0s 2ms/step - loss: 0.5192 - accuracy: 0.7520 - val_loss: 0.4890 - val_accuracy: 0.7638\n",
            "Epoch 19/100\n",
            "234/234 [==============================] - 0s 2ms/step - loss: 0.5183 - accuracy: 0.7467 - val_loss: 0.4754 - val_accuracy: 0.7744\n",
            "Epoch 20/100\n",
            "234/234 [==============================] - 0s 2ms/step - loss: 0.5212 - accuracy: 0.7500 - val_loss: 0.4843 - val_accuracy: 0.7691\n",
            "Epoch 21/100\n",
            "234/234 [==============================] - 0s 2ms/step - loss: 0.5167 - accuracy: 0.7496 - val_loss: 0.4784 - val_accuracy: 0.7673\n",
            "Epoch 22/100\n",
            "234/234 [==============================] - 0s 2ms/step - loss: 0.5195 - accuracy: 0.7508 - val_loss: 0.4891 - val_accuracy: 0.7620\n",
            "Epoch 23/100\n",
            "234/234 [==============================] - 0s 2ms/step - loss: 0.5178 - accuracy: 0.7516 - val_loss: 0.4841 - val_accuracy: 0.7673\n",
            "Epoch 24/100\n",
            "234/234 [==============================] - 0s 2ms/step - loss: 0.5156 - accuracy: 0.7504 - val_loss: 0.4883 - val_accuracy: 0.7584\n",
            "Epoch 25/100\n",
            "234/234 [==============================] - 0s 2ms/step - loss: 0.5215 - accuracy: 0.7523 - val_loss: 0.4862 - val_accuracy: 0.7602\n",
            "Epoch 26/100\n",
            "234/234 [==============================] - 0s 2ms/step - loss: 0.5180 - accuracy: 0.7469 - val_loss: 0.4869 - val_accuracy: 0.7602\n",
            "Epoch 27/100\n",
            "234/234 [==============================] - 0s 2ms/step - loss: 0.5148 - accuracy: 0.7535 - val_loss: 0.4942 - val_accuracy: 0.7567\n",
            "Epoch 28/100\n",
            "234/234 [==============================] - 1s 2ms/step - loss: 0.5165 - accuracy: 0.7480 - val_loss: 0.4813 - val_accuracy: 0.7602\n",
            "Epoch 29/100\n",
            "234/234 [==============================] - 0s 2ms/step - loss: 0.5195 - accuracy: 0.7453 - val_loss: 0.4893 - val_accuracy: 0.7602\n",
            "Epoch 30/100\n",
            "234/234 [==============================] - 0s 2ms/step - loss: 0.5127 - accuracy: 0.7499 - val_loss: 0.4776 - val_accuracy: 0.7762\n",
            "Epoch 31/100\n",
            "234/234 [==============================] - 0s 2ms/step - loss: 0.5136 - accuracy: 0.7550 - val_loss: 0.4803 - val_accuracy: 0.7691\n",
            "Epoch 32/100\n",
            "234/234 [==============================] - 0s 2ms/step - loss: 0.5138 - accuracy: 0.7507 - val_loss: 0.4901 - val_accuracy: 0.7655\n",
            "Epoch 33/100\n",
            "234/234 [==============================] - 0s 2ms/step - loss: 0.5192 - accuracy: 0.7531 - val_loss: 0.4825 - val_accuracy: 0.7709\n",
            "Epoch 34/100\n",
            "234/234 [==============================] - 0s 2ms/step - loss: 0.5141 - accuracy: 0.7535 - val_loss: 0.4857 - val_accuracy: 0.7638\n",
            "Epoch 35/100\n",
            "234/234 [==============================] - 0s 2ms/step - loss: 0.5110 - accuracy: 0.7558 - val_loss: 0.4875 - val_accuracy: 0.7620\n",
            "Epoch 36/100\n",
            "234/234 [==============================] - 0s 2ms/step - loss: 0.5169 - accuracy: 0.7492 - val_loss: 0.4843 - val_accuracy: 0.7673\n",
            "Epoch 37/100\n",
            "234/234 [==============================] - 0s 2ms/step - loss: 0.5178 - accuracy: 0.7497 - val_loss: 0.4869 - val_accuracy: 0.7655\n",
            "Epoch 38/100\n",
            "234/234 [==============================] - 0s 2ms/step - loss: 0.5130 - accuracy: 0.7509 - val_loss: 0.4781 - val_accuracy: 0.7673\n",
            "Epoch 39/100\n",
            "234/234 [==============================] - 0s 2ms/step - loss: 0.5145 - accuracy: 0.7544 - val_loss: 0.4867 - val_accuracy: 0.7673\n",
            "Epoch 40/100\n",
            "234/234 [==============================] - 0s 2ms/step - loss: 0.5143 - accuracy: 0.7515 - val_loss: 0.4883 - val_accuracy: 0.7655\n",
            "Epoch 41/100\n",
            "234/234 [==============================] - 0s 2ms/step - loss: 0.5146 - accuracy: 0.7516 - val_loss: 0.4833 - val_accuracy: 0.7673\n",
            "Epoch 42/100\n",
            "234/234 [==============================] - 0s 2ms/step - loss: 0.5120 - accuracy: 0.7558 - val_loss: 0.4797 - val_accuracy: 0.7655\n",
            "Epoch 43/100\n",
            "234/234 [==============================] - 0s 2ms/step - loss: 0.5168 - accuracy: 0.7468 - val_loss: 0.4834 - val_accuracy: 0.7691\n",
            "Epoch 44/100\n",
            "234/234 [==============================] - 0s 2ms/step - loss: 0.5100 - accuracy: 0.7533 - val_loss: 0.4909 - val_accuracy: 0.7602\n",
            "Epoch 45/100\n",
            "234/234 [==============================] - 0s 2ms/step - loss: 0.5186 - accuracy: 0.7442 - val_loss: 0.4911 - val_accuracy: 0.7567\n",
            "Epoch 46/100\n",
            "234/234 [==============================] - 0s 2ms/step - loss: 0.5157 - accuracy: 0.7505 - val_loss: 0.4867 - val_accuracy: 0.7602\n",
            "Epoch 47/100\n",
            "234/234 [==============================] - 1s 4ms/step - loss: 0.5154 - accuracy: 0.7546 - val_loss: 0.4795 - val_accuracy: 0.7691\n",
            "Epoch 48/100\n",
            "234/234 [==============================] - 0s 2ms/step - loss: 0.5187 - accuracy: 0.7512 - val_loss: 0.4700 - val_accuracy: 0.7691\n",
            "Epoch 49/100\n",
            "234/234 [==============================] - 0s 2ms/step - loss: 0.5140 - accuracy: 0.7564 - val_loss: 0.4806 - val_accuracy: 0.7673\n",
            "Epoch 50/100\n",
            "234/234 [==============================] - 0s 2ms/step - loss: 0.5179 - accuracy: 0.7492 - val_loss: 0.4857 - val_accuracy: 0.7638\n",
            "Epoch 51/100\n",
            "234/234 [==============================] - 0s 2ms/step - loss: 0.5142 - accuracy: 0.7487 - val_loss: 0.4836 - val_accuracy: 0.7620\n",
            "Epoch 52/100\n",
            "234/234 [==============================] - 0s 2ms/step - loss: 0.5142 - accuracy: 0.7521 - val_loss: 0.4891 - val_accuracy: 0.7567\n",
            "Epoch 53/100\n",
            "234/234 [==============================] - 1s 2ms/step - loss: 0.5155 - accuracy: 0.7496 - val_loss: 0.4909 - val_accuracy: 0.7602\n",
            "Epoch 54/100\n",
            "234/234 [==============================] - 0s 2ms/step - loss: 0.5120 - accuracy: 0.7572 - val_loss: 0.4811 - val_accuracy: 0.7620\n",
            "Epoch 55/100\n",
            "234/234 [==============================] - 0s 2ms/step - loss: 0.5185 - accuracy: 0.7504 - val_loss: 0.4831 - val_accuracy: 0.7602\n",
            "Epoch 56/100\n",
            "234/234 [==============================] - 0s 2ms/step - loss: 0.5139 - accuracy: 0.7523 - val_loss: 0.4834 - val_accuracy: 0.7638\n",
            "Epoch 57/100\n",
            "234/234 [==============================] - 0s 2ms/step - loss: 0.5139 - accuracy: 0.7583 - val_loss: 0.4865 - val_accuracy: 0.7584\n",
            "Epoch 58/100\n",
            "234/234 [==============================] - 0s 2ms/step - loss: 0.5129 - accuracy: 0.7547 - val_loss: 0.4849 - val_accuracy: 0.7655\n",
            "Epoch 59/100\n",
            "234/234 [==============================] - 0s 2ms/step - loss: 0.5105 - accuracy: 0.7542 - val_loss: 0.4834 - val_accuracy: 0.7638\n",
            "Epoch 60/100\n",
            "234/234 [==============================] - 0s 2ms/step - loss: 0.5129 - accuracy: 0.7499 - val_loss: 0.4822 - val_accuracy: 0.7620\n",
            "Epoch 61/100\n",
            "234/234 [==============================] - 0s 2ms/step - loss: 0.5123 - accuracy: 0.7525 - val_loss: 0.4908 - val_accuracy: 0.7584\n",
            "Epoch 62/100\n",
            "234/234 [==============================] - 0s 2ms/step - loss: 0.5183 - accuracy: 0.7487 - val_loss: 0.4851 - val_accuracy: 0.7620\n",
            "Epoch 63/100\n",
            "234/234 [==============================] - 1s 2ms/step - loss: 0.5163 - accuracy: 0.7472 - val_loss: 0.4828 - val_accuracy: 0.7638\n",
            "Epoch 64/100\n",
            "234/234 [==============================] - 0s 2ms/step - loss: 0.5115 - accuracy: 0.7540 - val_loss: 0.4826 - val_accuracy: 0.7655\n",
            "Epoch 65/100\n",
            "234/234 [==============================] - 1s 2ms/step - loss: 0.5118 - accuracy: 0.7532 - val_loss: 0.4778 - val_accuracy: 0.7655\n",
            "Epoch 66/100\n",
            "234/234 [==============================] - 0s 2ms/step - loss: 0.5101 - accuracy: 0.7529 - val_loss: 0.4848 - val_accuracy: 0.7638\n",
            "Epoch 67/100\n",
            "234/234 [==============================] - 1s 4ms/step - loss: 0.5110 - accuracy: 0.7497 - val_loss: 0.4820 - val_accuracy: 0.7620\n",
            "Epoch 68/100\n",
            "234/234 [==============================] - 1s 4ms/step - loss: 0.5087 - accuracy: 0.7529 - val_loss: 0.4906 - val_accuracy: 0.7567\n",
            "Epoch 69/100\n",
            "234/234 [==============================] - 1s 4ms/step - loss: 0.5094 - accuracy: 0.7560 - val_loss: 0.4803 - val_accuracy: 0.7655\n",
            "Epoch 70/100\n",
            "234/234 [==============================] - 1s 4ms/step - loss: 0.5115 - accuracy: 0.7476 - val_loss: 0.4936 - val_accuracy: 0.7584\n",
            "Epoch 71/100\n",
            "234/234 [==============================] - 0s 2ms/step - loss: 0.5111 - accuracy: 0.7571 - val_loss: 0.4797 - val_accuracy: 0.7673\n",
            "Epoch 72/100\n",
            "234/234 [==============================] - 1s 2ms/step - loss: 0.5121 - accuracy: 0.7501 - val_loss: 0.4813 - val_accuracy: 0.7655\n",
            "Epoch 73/100\n",
            "234/234 [==============================] - 0s 2ms/step - loss: 0.5204 - accuracy: 0.7445 - val_loss: 0.4835 - val_accuracy: 0.7638\n",
            "Epoch 74/100\n",
            "234/234 [==============================] - 0s 2ms/step - loss: 0.5164 - accuracy: 0.7508 - val_loss: 0.4774 - val_accuracy: 0.7655\n",
            "Epoch 75/100\n",
            "234/234 [==============================] - 0s 2ms/step - loss: 0.5115 - accuracy: 0.7525 - val_loss: 0.4808 - val_accuracy: 0.7655\n",
            "Epoch 76/100\n",
            "234/234 [==============================] - 0s 2ms/step - loss: 0.5141 - accuracy: 0.7511 - val_loss: 0.4740 - val_accuracy: 0.7744\n",
            "Epoch 77/100\n",
            "234/234 [==============================] - 0s 2ms/step - loss: 0.5065 - accuracy: 0.7544 - val_loss: 0.4857 - val_accuracy: 0.7620\n",
            "Epoch 78/100\n",
            "234/234 [==============================] - 0s 2ms/step - loss: 0.5069 - accuracy: 0.7525 - val_loss: 0.4781 - val_accuracy: 0.7691\n",
            "Epoch 79/100\n",
            "234/234 [==============================] - 0s 2ms/step - loss: 0.5089 - accuracy: 0.7519 - val_loss: 0.4903 - val_accuracy: 0.7567\n",
            "Epoch 80/100\n",
            "234/234 [==============================] - 0s 2ms/step - loss: 0.5139 - accuracy: 0.7531 - val_loss: 0.4840 - val_accuracy: 0.7638\n",
            "Epoch 81/100\n",
            "234/234 [==============================] - 1s 2ms/step - loss: 0.5162 - accuracy: 0.7508 - val_loss: 0.4893 - val_accuracy: 0.7584\n",
            "Epoch 82/100\n",
            "234/234 [==============================] - 0s 2ms/step - loss: 0.5122 - accuracy: 0.7507 - val_loss: 0.4945 - val_accuracy: 0.7584\n",
            "Epoch 83/100\n",
            "234/234 [==============================] - 0s 2ms/step - loss: 0.5151 - accuracy: 0.7507 - val_loss: 0.4845 - val_accuracy: 0.7620\n",
            "Epoch 84/100\n",
            "234/234 [==============================] - 0s 2ms/step - loss: 0.5103 - accuracy: 0.7532 - val_loss: 0.4815 - val_accuracy: 0.7655\n",
            "Epoch 85/100\n",
            "234/234 [==============================] - 0s 2ms/step - loss: 0.5162 - accuracy: 0.7457 - val_loss: 0.4776 - val_accuracy: 0.7709\n",
            "Epoch 86/100\n",
            "234/234 [==============================] - 0s 2ms/step - loss: 0.5094 - accuracy: 0.7532 - val_loss: 0.4826 - val_accuracy: 0.7638\n",
            "Epoch 87/100\n",
            "234/234 [==============================] - 0s 2ms/step - loss: 0.5081 - accuracy: 0.7521 - val_loss: 0.4800 - val_accuracy: 0.7655\n",
            "Epoch 88/100\n",
            "234/234 [==============================] - 0s 2ms/step - loss: 0.5108 - accuracy: 0.7525 - val_loss: 0.4776 - val_accuracy: 0.7673\n",
            "Epoch 89/100\n",
            "234/234 [==============================] - 0s 2ms/step - loss: 0.5148 - accuracy: 0.7491 - val_loss: 0.4821 - val_accuracy: 0.7620\n",
            "Epoch 90/100\n",
            "234/234 [==============================] - 0s 2ms/step - loss: 0.5087 - accuracy: 0.7536 - val_loss: 0.4859 - val_accuracy: 0.7584\n",
            "Epoch 91/100\n",
            "234/234 [==============================] - 0s 2ms/step - loss: 0.5100 - accuracy: 0.7570 - val_loss: 0.4863 - val_accuracy: 0.7584\n",
            "Epoch 92/100\n",
            "234/234 [==============================] - 0s 2ms/step - loss: 0.5134 - accuracy: 0.7473 - val_loss: 0.4766 - val_accuracy: 0.7691\n",
            "Epoch 93/100\n",
            "234/234 [==============================] - 0s 2ms/step - loss: 0.5106 - accuracy: 0.7588 - val_loss: 0.4926 - val_accuracy: 0.7567\n",
            "Epoch 94/100\n",
            "234/234 [==============================] - 0s 2ms/step - loss: 0.5118 - accuracy: 0.7574 - val_loss: 0.4807 - val_accuracy: 0.7620\n",
            "Epoch 95/100\n",
            "234/234 [==============================] - 0s 2ms/step - loss: 0.5150 - accuracy: 0.7508 - val_loss: 0.4780 - val_accuracy: 0.7673\n",
            "Epoch 96/100\n",
            "234/234 [==============================] - 0s 2ms/step - loss: 0.5102 - accuracy: 0.7576 - val_loss: 0.4756 - val_accuracy: 0.7673\n",
            "Epoch 97/100\n",
            "234/234 [==============================] - 0s 2ms/step - loss: 0.5140 - accuracy: 0.7460 - val_loss: 0.4838 - val_accuracy: 0.7620\n",
            "Epoch 98/100\n",
            "234/234 [==============================] - 0s 2ms/step - loss: 0.5104 - accuracy: 0.7544 - val_loss: 0.4889 - val_accuracy: 0.7549\n",
            "Epoch 99/100\n",
            "234/234 [==============================] - 0s 2ms/step - loss: 0.5135 - accuracy: 0.7517 - val_loss: 0.4867 - val_accuracy: 0.7620\n",
            "Epoch 100/100\n",
            "234/234 [==============================] - 0s 2ms/step - loss: 0.5108 - accuracy: 0.7540 - val_loss: 0.4809 - val_accuracy: 0.7638\n"
          ]
        }
      ]
    },
    {
      "cell_type": "markdown",
      "source": [
        "# 9. Model Evaluation"
      ],
      "metadata": {
        "id": "clJG2mOSqX6Q"
      }
    },
    {
      "cell_type": "markdown",
      "source": [
        "> Pada bagian ini, dilakukan evaluasi model yang harus menunjukkan bagaimana performa model berdasarkan metrics yang dipilih. Hal ini harus dibuktikan dengan visualisasi tren performa dan/atau tingkat kesalahan model. **Lakukan analisis terkait dengan hasil pada model dan tuliskan hasil analisisnya**."
      ],
      "metadata": {
        "id": "UEhgiE1eqcB5"
      }
    },
    {
      "cell_type": "markdown",
      "source": [
        "#### 9.1 Evaluation Model Sequential API"
      ],
      "metadata": {
        "id": "KOHJ0WIlMzt7"
      }
    },
    {
      "cell_type": "code",
      "source": [
        "metrics = pd.DataFrame(history.history)\n",
        "metrics.tail()"
      ],
      "metadata": {
        "id": "NtIIeLSGqbaB",
        "colab": {
          "base_uri": "https://localhost:8080/",
          "height": 270
        },
        "outputId": "6b15c636-35e3-47bb-be6e-b728762cadab"
      },
      "execution_count": null,
      "outputs": [
        {
          "output_type": "execute_result",
          "data": {
            "text/plain": [
              "        loss  accuracy  val_loss  val_accuracy\n",
              "95  0.431262  0.798767  0.491160      0.744227\n",
              "96  0.432021  0.796758  0.469277      0.761989\n",
              "97  0.431229  0.795284  0.489397      0.749556\n",
              "98  0.431188  0.797428  0.469581      0.770870\n",
              "99  0.431514  0.796758  0.481261      0.751332"
            ],
            "text/html": [
              "\n",
              "  <div id=\"df-f44e0e1e-30e4-4aa6-bc47-56fb7fcea85c\">\n",
              "    <div class=\"colab-df-container\">\n",
              "      <div>\n",
              "<style scoped>\n",
              "    .dataframe tbody tr th:only-of-type {\n",
              "        vertical-align: middle;\n",
              "    }\n",
              "\n",
              "    .dataframe tbody tr th {\n",
              "        vertical-align: top;\n",
              "    }\n",
              "\n",
              "    .dataframe thead th {\n",
              "        text-align: right;\n",
              "    }\n",
              "</style>\n",
              "<table border=\"1\" class=\"dataframe\">\n",
              "  <thead>\n",
              "    <tr style=\"text-align: right;\">\n",
              "      <th></th>\n",
              "      <th>loss</th>\n",
              "      <th>accuracy</th>\n",
              "      <th>val_loss</th>\n",
              "      <th>val_accuracy</th>\n",
              "    </tr>\n",
              "  </thead>\n",
              "  <tbody>\n",
              "    <tr>\n",
              "      <th>95</th>\n",
              "      <td>0.431262</td>\n",
              "      <td>0.798767</td>\n",
              "      <td>0.491160</td>\n",
              "      <td>0.744227</td>\n",
              "    </tr>\n",
              "    <tr>\n",
              "      <th>96</th>\n",
              "      <td>0.432021</td>\n",
              "      <td>0.796758</td>\n",
              "      <td>0.469277</td>\n",
              "      <td>0.761989</td>\n",
              "    </tr>\n",
              "    <tr>\n",
              "      <th>97</th>\n",
              "      <td>0.431229</td>\n",
              "      <td>0.795284</td>\n",
              "      <td>0.489397</td>\n",
              "      <td>0.749556</td>\n",
              "    </tr>\n",
              "    <tr>\n",
              "      <th>98</th>\n",
              "      <td>0.431188</td>\n",
              "      <td>0.797428</td>\n",
              "      <td>0.469581</td>\n",
              "      <td>0.770870</td>\n",
              "    </tr>\n",
              "    <tr>\n",
              "      <th>99</th>\n",
              "      <td>0.431514</td>\n",
              "      <td>0.796758</td>\n",
              "      <td>0.481261</td>\n",
              "      <td>0.751332</td>\n",
              "    </tr>\n",
              "  </tbody>\n",
              "</table>\n",
              "</div>\n",
              "      <button class=\"colab-df-convert\" onclick=\"convertToInteractive('df-f44e0e1e-30e4-4aa6-bc47-56fb7fcea85c')\"\n",
              "              title=\"Convert this dataframe to an interactive table.\"\n",
              "              style=\"display:none;\">\n",
              "        \n",
              "  <svg xmlns=\"http://www.w3.org/2000/svg\" height=\"24px\"viewBox=\"0 0 24 24\"\n",
              "       width=\"24px\">\n",
              "    <path d=\"M0 0h24v24H0V0z\" fill=\"none\"/>\n",
              "    <path d=\"M18.56 5.44l.94 2.06.94-2.06 2.06-.94-2.06-.94-.94-2.06-.94 2.06-2.06.94zm-11 1L8.5 8.5l.94-2.06 2.06-.94-2.06-.94L8.5 2.5l-.94 2.06-2.06.94zm10 10l.94 2.06.94-2.06 2.06-.94-2.06-.94-.94-2.06-.94 2.06-2.06.94z\"/><path d=\"M17.41 7.96l-1.37-1.37c-.4-.4-.92-.59-1.43-.59-.52 0-1.04.2-1.43.59L10.3 9.45l-7.72 7.72c-.78.78-.78 2.05 0 2.83L4 21.41c.39.39.9.59 1.41.59.51 0 1.02-.2 1.41-.59l7.78-7.78 2.81-2.81c.8-.78.8-2.07 0-2.86zM5.41 20L4 18.59l7.72-7.72 1.47 1.35L5.41 20z\"/>\n",
              "  </svg>\n",
              "      </button>\n",
              "      \n",
              "  <style>\n",
              "    .colab-df-container {\n",
              "      display:flex;\n",
              "      flex-wrap:wrap;\n",
              "      gap: 12px;\n",
              "    }\n",
              "\n",
              "    .colab-df-convert {\n",
              "      background-color: #E8F0FE;\n",
              "      border: none;\n",
              "      border-radius: 50%;\n",
              "      cursor: pointer;\n",
              "      display: none;\n",
              "      fill: #1967D2;\n",
              "      height: 32px;\n",
              "      padding: 0 0 0 0;\n",
              "      width: 32px;\n",
              "    }\n",
              "\n",
              "    .colab-df-convert:hover {\n",
              "      background-color: #E2EBFA;\n",
              "      box-shadow: 0px 1px 2px rgba(60, 64, 67, 0.3), 0px 1px 3px 1px rgba(60, 64, 67, 0.15);\n",
              "      fill: #174EA6;\n",
              "    }\n",
              "\n",
              "    [theme=dark] .colab-df-convert {\n",
              "      background-color: #3B4455;\n",
              "      fill: #D2E3FC;\n",
              "    }\n",
              "\n",
              "    [theme=dark] .colab-df-convert:hover {\n",
              "      background-color: #434B5C;\n",
              "      box-shadow: 0px 1px 3px 1px rgba(0, 0, 0, 0.15);\n",
              "      filter: drop-shadow(0px 1px 2px rgba(0, 0, 0, 0.3));\n",
              "      fill: #FFFFFF;\n",
              "    }\n",
              "  </style>\n",
              "\n",
              "      <script>\n",
              "        const buttonEl =\n",
              "          document.querySelector('#df-f44e0e1e-30e4-4aa6-bc47-56fb7fcea85c button.colab-df-convert');\n",
              "        buttonEl.style.display =\n",
              "          google.colab.kernel.accessAllowed ? 'block' : 'none';\n",
              "\n",
              "        async function convertToInteractive(key) {\n",
              "          const element = document.querySelector('#df-f44e0e1e-30e4-4aa6-bc47-56fb7fcea85c');\n",
              "          const dataTable =\n",
              "            await google.colab.kernel.invokeFunction('convertToInteractive',\n",
              "                                                     [key], {});\n",
              "          if (!dataTable) return;\n",
              "\n",
              "          const docLinkHtml = 'Like what you see? Visit the ' +\n",
              "            '<a target=\"_blank\" href=https://colab.research.google.com/notebooks/data_table.ipynb>data table notebook</a>'\n",
              "            + ' to learn more about interactive tables.';\n",
              "          element.innerHTML = '';\n",
              "          dataTable['output_type'] = 'display_data';\n",
              "          await google.colab.output.renderOutput(dataTable, element);\n",
              "          const docLink = document.createElement('div');\n",
              "          docLink.innerHTML = docLinkHtml;\n",
              "          element.appendChild(docLink);\n",
              "        }\n",
              "      </script>\n",
              "    </div>\n",
              "  </div>\n",
              "  "
            ]
          },
          "metadata": {},
          "execution_count": 217
        }
      ]
    },
    {
      "cell_type": "code",
      "source": [
        "metrics[['loss', 'val_loss']].plot()"
      ],
      "metadata": {
        "id": "XpNZA2x9oFzW",
        "colab": {
          "base_uri": "https://localhost:8080/",
          "height": 282
        },
        "outputId": "a541e90f-057e-4f51-8f19-f811bf038d2f"
      },
      "execution_count": null,
      "outputs": [
        {
          "output_type": "execute_result",
          "data": {
            "text/plain": [
              "<matplotlib.axes._subplots.AxesSubplot at 0x7f4ff3cee390>"
            ]
          },
          "metadata": {},
          "execution_count": 218
        },
        {
          "output_type": "display_data",
          "data": {
            "text/plain": [
              "<Figure size 432x288 with 1 Axes>"
            ],
            "image/png": "[encoded data removed]"
          },
          "metadata": {
            "needs_background": "light"
          }
        }
      ]
    },
    {
      "cell_type": "code",
      "source": [
        "y_pred = model.predict(X_test_final)\n",
        "y_pred = np.where(y_pred >= 0.5, 1, 0)\n",
        "print('Accuracy - Train Set  : ', accuracy_score(y_test, y_pred), '\\n')\n",
        "print('Classification Report : \\n', classification_report(y_test, y_pred), '\\n')"
      ],
      "metadata": {
        "id": "LiCdzUWow59n",
        "colab": {
          "base_uri": "https://localhost:8080/"
        },
        "outputId": "880e771c-c9c0-486b-bfb6-1bc000fb1d74"
      },
      "execution_count": null,
      "outputs": [
        {
          "output_type": "stream",
          "name": "stdout",
          "text": [
            "Accuracy - Train Set  :  0.7277896233120114 \n",
            "\n",
            "Classification Report : \n",
            "               precision    recall  f1-score   support\n",
            "\n",
            "           0       0.90      0.71      0.79      1036\n",
            "           1       0.49      0.77      0.60       371\n",
            "\n",
            "    accuracy                           0.73      1407\n",
            "   macro avg       0.69      0.74      0.70      1407\n",
            "weighted avg       0.79      0.73      0.74      1407\n",
            " \n",
            "\n"
          ]
        }
      ]
    },
    {
      "cell_type": "markdown",
      "source": [
        "#### 9.2 Evaluation Model Funtional API"
      ],
      "metadata": {
        "id": "dHeHE7K_M8XG"
      }
    },
    {
      "cell_type": "code",
      "source": [
        "metrics2 = pd.DataFrame(history2.history)\n",
        "metrics2.tail()"
      ],
      "metadata": {
        "id": "Fm4J5_jJiuRk",
        "colab": {
          "base_uri": "https://localhost:8080/",
          "height": 206
        },
        "outputId": "b3be215d-e0e6-4873-e8b6-190e7475651f"
      },
      "execution_count": null,
      "outputs": [
        {
          "output_type": "execute_result",
          "data": {
            "text/plain": [
              "        loss  accuracy  val_loss  val_accuracy\n",
              "95  0.510185  0.757637  0.475565      0.767318\n",
              "96  0.514039  0.745981  0.483802      0.761989\n",
              "97  0.510441  0.754421  0.488945      0.754885\n",
              "98  0.513467  0.751742  0.486734      0.761989\n",
              "99  0.510836  0.754019  0.480871      0.763766"
            ],
            "text/html": [
              "\n",
              "  <div id=\"df-2cca4127-4230-4598-9609-57f3cfd620af\">\n",
              "    <div class=\"colab-df-container\">\n",
              "      <div>\n",
              "<style scoped>\n",
              "    .dataframe tbody tr th:only-of-type {\n",
              "        vertical-align: middle;\n",
              "    }\n",
              "\n",
              "    .dataframe tbody tr th {\n",
              "        vertical-align: top;\n",
              "    }\n",
              "\n",
              "    .dataframe thead th {\n",
              "        text-align: right;\n",
              "    }\n",
              "</style>\n",
              "<table border=\"1\" class=\"dataframe\">\n",
              "  <thead>\n",
              "    <tr style=\"text-align: right;\">\n",
              "      <th></th>\n",
              "      <th>loss</th>\n",
              "      <th>accuracy</th>\n",
              "      <th>val_loss</th>\n",
              "      <th>val_accuracy</th>\n",
              "    </tr>\n",
              "  </thead>\n",
              "  <tbody>\n",
              "    <tr>\n",
              "      <th>95</th>\n",
              "      <td>0.510185</td>\n",
              "      <td>0.757637</td>\n",
              "      <td>0.475565</td>\n",
              "      <td>0.767318</td>\n",
              "    </tr>\n",
              "    <tr>\n",
              "      <th>96</th>\n",
              "      <td>0.514039</td>\n",
              "      <td>0.745981</td>\n",
              "      <td>0.483802</td>\n",
              "      <td>0.761989</td>\n",
              "    </tr>\n",
              "    <tr>\n",
              "      <th>97</th>\n",
              "      <td>0.510441</td>\n",
              "      <td>0.754421</td>\n",
              "      <td>0.488945</td>\n",
              "      <td>0.754885</td>\n",
              "    </tr>\n",
              "    <tr>\n",
              "      <th>98</th>\n",
              "      <td>0.513467</td>\n",
              "      <td>0.751742</td>\n",
              "      <td>0.486734</td>\n",
              "      <td>0.761989</td>\n",
              "    </tr>\n",
              "    <tr>\n",
              "      <th>99</th>\n",
              "      <td>0.510836</td>\n",
              "      <td>0.754019</td>\n",
              "      <td>0.480871</td>\n",
              "      <td>0.763766</td>\n",
              "    </tr>\n",
              "  </tbody>\n",
              "</table>\n",
              "</div>\n",
              "      <button class=\"colab-df-convert\" onclick=\"convertToInteractive('df-2cca4127-4230-4598-9609-57f3cfd620af')\"\n",
              "              title=\"Convert this dataframe to an interactive table.\"\n",
              "              style=\"display:none;\">\n",
              "        \n",
              "  <svg xmlns=\"http://www.w3.org/2000/svg\" height=\"24px\"viewBox=\"0 0 24 24\"\n",
              "       width=\"24px\">\n",
              "    <path d=\"M0 0h24v24H0V0z\" fill=\"none\"/>\n",
              "    <path d=\"M18.56 5.44l.94 2.06.94-2.06 2.06-.94-2.06-.94-.94-2.06-.94 2.06-2.06.94zm-11 1L8.5 8.5l.94-2.06 2.06-.94-2.06-.94L8.5 2.5l-.94 2.06-2.06.94zm10 10l.94 2.06.94-2.06 2.06-.94-2.06-.94-.94-2.06-.94 2.06-2.06.94z\"/><path d=\"M17.41 7.96l-1.37-1.37c-.4-.4-.92-.59-1.43-.59-.52 0-1.04.2-1.43.59L10.3 9.45l-7.72 7.72c-.78.78-.78 2.05 0 2.83L4 21.41c.39.39.9.59 1.41.59.51 0 1.02-.2 1.41-.59l7.78-7.78 2.81-2.81c.8-.78.8-2.07 0-2.86zM5.41 20L4 18.59l7.72-7.72 1.47 1.35L5.41 20z\"/>\n",
              "  </svg>\n",
              "      </button>\n",
              "      \n",
              "  <style>\n",
              "    .colab-df-container {\n",
              "      display:flex;\n",
              "      flex-wrap:wrap;\n",
              "      gap: 12px;\n",
              "    }\n",
              "\n",
              "    .colab-df-convert {\n",
              "      background-color: #E8F0FE;\n",
              "      border: none;\n",
              "      border-radius: 50%;\n",
              "      cursor: pointer;\n",
              "      display: none;\n",
              "      fill: #1967D2;\n",
              "      height: 32px;\n",
              "      padding: 0 0 0 0;\n",
              "      width: 32px;\n",
              "    }\n",
              "\n",
              "    .colab-df-convert:hover {\n",
              "      background-color: #E2EBFA;\n",
              "      box-shadow: 0px 1px 2px rgba(60, 64, 67, 0.3), 0px 1px 3px 1px rgba(60, 64, 67, 0.15);\n",
              "      fill: #174EA6;\n",
              "    }\n",
              "\n",
              "    [theme=dark] .colab-df-convert {\n",
              "      background-color: #3B4455;\n",
              "      fill: #D2E3FC;\n",
              "    }\n",
              "\n",
              "    [theme=dark] .colab-df-convert:hover {\n",
              "      background-color: #434B5C;\n",
              "      box-shadow: 0px 1px 3px 1px rgba(0, 0, 0, 0.15);\n",
              "      filter: drop-shadow(0px 1px 2px rgba(0, 0, 0, 0.3));\n",
              "      fill: #FFFFFF;\n",
              "    }\n",
              "  </style>\n",
              "\n",
              "      <script>\n",
              "        const buttonEl =\n",
              "          document.querySelector('#df-2cca4127-4230-4598-9609-57f3cfd620af button.colab-df-convert');\n",
              "        buttonEl.style.display =\n",
              "          google.colab.kernel.accessAllowed ? 'block' : 'none';\n",
              "\n",
              "        async function convertToInteractive(key) {\n",
              "          const element = document.querySelector('#df-2cca4127-4230-4598-9609-57f3cfd620af');\n",
              "          const dataTable =\n",
              "            await google.colab.kernel.invokeFunction('convertToInteractive',\n",
              "                                                     [key], {});\n",
              "          if (!dataTable) return;\n",
              "\n",
              "          const docLinkHtml = 'Like what you see? Visit the ' +\n",
              "            '<a target=\"_blank\" href=https://colab.research.google.com/notebooks/data_table.ipynb>data table notebook</a>'\n",
              "            + ' to learn more about interactive tables.';\n",
              "          element.innerHTML = '';\n",
              "          dataTable['output_type'] = 'display_data';\n",
              "          await google.colab.output.renderOutput(dataTable, element);\n",
              "          const docLink = document.createElement('div');\n",
              "          docLink.innerHTML = docLinkHtml;\n",
              "          element.appendChild(docLink);\n",
              "        }\n",
              "      </script>\n",
              "    </div>\n",
              "  </div>\n",
              "  "
            ]
          },
          "metadata": {},
          "execution_count": 220
        }
      ]
    },
    {
      "cell_type": "code",
      "source": [
        "metrics2[['loss', 'val_loss']].plot()"
      ],
      "metadata": {
        "id": "3EFJjaDyi2FV",
        "colab": {
          "base_uri": "https://localhost:8080/",
          "height": 72
        },
        "outputId": "47f6d93f-93df-4264-bac0-03c88877a065"
      },
      "execution_count": null,
      "outputs": [
        {
          "output_type": "execute_result",
          "data": {
            "text/plain": [
              "<matplotlib.axes._subplots.AxesSubplot at 0x7f4fee63e1d0>"
            ]
          },
          "metadata": {},
          "execution_count": 221
        },
        {
          "output_type": "display_data",
          "data": {
            "text/plain": [
              "<Figure size 432x288 with 1 Axes>"
            ],
            "image/png": "[encoded data removed]"
          },
          "metadata": {
            "needs_background": "light"
          }
        }
      ]
    },
    {
      "cell_type": "code",
      "source": [
        "y_pred2 = model2.predict(X_test_final)\n",
        "y_pred2 = np.where(y_pred2 >= 0.5, 1, 0)\n",
        "print('Accuracy - Train Set  : ', accuracy_score(y_test, y_pred2), '\\n')\n",
        "print('Classification Report : \\n', classification_report(y_test, y_pred2), '\\n')"
      ],
      "metadata": {
        "id": "N9YqfwuSy5hX",
        "colab": {
          "base_uri": "https://localhost:8080/"
        },
        "outputId": "e9be192a-fa27-47df-ce51-3b23265d8296"
      },
      "execution_count": null,
      "outputs": [
        {
          "output_type": "stream",
          "name": "stdout",
          "text": [
            "Accuracy - Train Set  :  0.7377398720682303 \n",
            "\n",
            "Classification Report : \n",
            "               precision    recall  f1-score   support\n",
            "\n",
            "           0       0.90      0.72      0.80      1036\n",
            "           1       0.50      0.78      0.61       371\n",
            "\n",
            "    accuracy                           0.74      1407\n",
            "   macro avg       0.70      0.75      0.71      1407\n",
            "weighted avg       0.80      0.74      0.75      1407\n",
            " \n",
            "\n"
          ]
        }
      ]
    },
    {
      "cell_type": "markdown",
      "source": [
        "# 10. Model Improvement"
      ],
      "metadata": {
        "id": "SugCrPf0nNbp"
      }
    },
    {
      "cell_type": "code",
      "source": [
        "# buat arsitekturnya\n",
        "model3 = Sequential()\n",
        "model3.add(Flatten(input_shape=X_train_final.shape[1:]))\n",
        "model3.add(Dense(13, use_bias=True, activation='elu')) # hidden layer 1\n",
        "keras.layers.BatchNormalization()\n",
        "model3.add(Dense(7, use_bias=True, activation='elu')) # hidden layer 2\n",
        "keras.layers.BatchNormalization()\n",
        "model3.add(Dense(1, activation='sigmoid')) # output layer\n",
        "\n",
        "# compile\n",
        "model3.compile(loss='binary_crossentropy',\n",
        "              optimizer= keras.optimizers.SGD(clipvalue=1.0), # paling modern\n",
        "              metrics=['accuracy'])\n",
        "\n",
        "# train\n",
        "history3 = model3.fit(X_train_final, y_train_balanced, epochs=30, validation_data=(X_val_final, y_val))"
      ],
      "metadata": {
        "id": "DaD8kP8lnTXW",
        "colab": {
          "base_uri": "https://localhost:8080/"
        },
        "outputId": "e4dc3e37-3c0f-4bc6-dd86-d015f527b7a0"
      },
      "execution_count": null,
      "outputs": [
        {
          "output_type": "stream",
          "name": "stdout",
          "text": [
            "Epoch 1/30\n",
            "234/234 [==============================] - 1s 2ms/step - loss: 0.5883 - accuracy: 0.7019 - val_loss: 0.5271 - val_accuracy: 0.7371\n",
            "Epoch 2/30\n",
            "234/234 [==============================] - 0s 2ms/step - loss: 0.5059 - accuracy: 0.7543 - val_loss: 0.4917 - val_accuracy: 0.7478\n",
            "Epoch 3/30\n",
            "234/234 [==============================] - 0s 2ms/step - loss: 0.4928 - accuracy: 0.7603 - val_loss: 0.4940 - val_accuracy: 0.7513\n",
            "Epoch 4/30\n",
            "234/234 [==============================] - 0s 2ms/step - loss: 0.4884 - accuracy: 0.7614 - val_loss: 0.4856 - val_accuracy: 0.7584\n",
            "Epoch 5/30\n",
            "234/234 [==============================] - 0s 2ms/step - loss: 0.4859 - accuracy: 0.7643 - val_loss: 0.4855 - val_accuracy: 0.7602\n",
            "Epoch 6/30\n",
            "234/234 [==============================] - 0s 2ms/step - loss: 0.4844 - accuracy: 0.7663 - val_loss: 0.4773 - val_accuracy: 0.7638\n",
            "Epoch 7/30\n",
            "234/234 [==============================] - 0s 2ms/step - loss: 0.4831 - accuracy: 0.7674 - val_loss: 0.4799 - val_accuracy: 0.7691\n",
            "Epoch 8/30\n",
            "234/234 [==============================] - 0s 2ms/step - loss: 0.4819 - accuracy: 0.7685 - val_loss: 0.4732 - val_accuracy: 0.7709\n",
            "Epoch 9/30\n",
            "234/234 [==============================] - 0s 2ms/step - loss: 0.4812 - accuracy: 0.7667 - val_loss: 0.4745 - val_accuracy: 0.7709\n",
            "Epoch 10/30\n",
            "234/234 [==============================] - 0s 2ms/step - loss: 0.4802 - accuracy: 0.7666 - val_loss: 0.4715 - val_accuracy: 0.7709\n",
            "Epoch 11/30\n",
            "234/234 [==============================] - 0s 2ms/step - loss: 0.4796 - accuracy: 0.7684 - val_loss: 0.4720 - val_accuracy: 0.7691\n",
            "Epoch 12/30\n",
            "234/234 [==============================] - 0s 2ms/step - loss: 0.4787 - accuracy: 0.7696 - val_loss: 0.4760 - val_accuracy: 0.7726\n",
            "Epoch 13/30\n",
            "234/234 [==============================] - 0s 2ms/step - loss: 0.4781 - accuracy: 0.7682 - val_loss: 0.4766 - val_accuracy: 0.7709\n",
            "Epoch 14/30\n",
            "234/234 [==============================] - 0s 2ms/step - loss: 0.4778 - accuracy: 0.7686 - val_loss: 0.4819 - val_accuracy: 0.7709\n",
            "Epoch 15/30\n",
            "234/234 [==============================] - 0s 2ms/step - loss: 0.4773 - accuracy: 0.7692 - val_loss: 0.4839 - val_accuracy: 0.7709\n",
            "Epoch 16/30\n",
            "234/234 [==============================] - 0s 2ms/step - loss: 0.4769 - accuracy: 0.7705 - val_loss: 0.4663 - val_accuracy: 0.7691\n",
            "Epoch 17/30\n",
            "234/234 [==============================] - 0s 2ms/step - loss: 0.4765 - accuracy: 0.7696 - val_loss: 0.4764 - val_accuracy: 0.7691\n",
            "Epoch 18/30\n",
            "234/234 [==============================] - 0s 2ms/step - loss: 0.4763 - accuracy: 0.7709 - val_loss: 0.4726 - val_accuracy: 0.7709\n",
            "Epoch 19/30\n",
            "234/234 [==============================] - 0s 2ms/step - loss: 0.4758 - accuracy: 0.7713 - val_loss: 0.4571 - val_accuracy: 0.7762\n",
            "Epoch 20/30\n",
            "234/234 [==============================] - 0s 2ms/step - loss: 0.4756 - accuracy: 0.7705 - val_loss: 0.4594 - val_accuracy: 0.7726\n",
            "Epoch 21/30\n",
            "234/234 [==============================] - 0s 2ms/step - loss: 0.4747 - accuracy: 0.7726 - val_loss: 0.4879 - val_accuracy: 0.7638\n",
            "Epoch 22/30\n",
            "234/234 [==============================] - 0s 2ms/step - loss: 0.4750 - accuracy: 0.7740 - val_loss: 0.4627 - val_accuracy: 0.7709\n",
            "Epoch 23/30\n",
            "234/234 [==============================] - 0s 2ms/step - loss: 0.4745 - accuracy: 0.7726 - val_loss: 0.4709 - val_accuracy: 0.7691\n",
            "Epoch 24/30\n",
            "234/234 [==============================] - 0s 2ms/step - loss: 0.4743 - accuracy: 0.7704 - val_loss: 0.4683 - val_accuracy: 0.7709\n",
            "Epoch 25/30\n",
            "234/234 [==============================] - 0s 2ms/step - loss: 0.4740 - accuracy: 0.7708 - val_loss: 0.4627 - val_accuracy: 0.7709\n",
            "Epoch 26/30\n",
            "234/234 [==============================] - 0s 2ms/step - loss: 0.4738 - accuracy: 0.7708 - val_loss: 0.4592 - val_accuracy: 0.7744\n",
            "Epoch 27/30\n",
            "234/234 [==============================] - 0s 2ms/step - loss: 0.4738 - accuracy: 0.7730 - val_loss: 0.4726 - val_accuracy: 0.7709\n",
            "Epoch 28/30\n",
            "234/234 [==============================] - 0s 2ms/step - loss: 0.4732 - accuracy: 0.7701 - val_loss: 0.4596 - val_accuracy: 0.7726\n",
            "Epoch 29/30\n",
            "234/234 [==============================] - 0s 2ms/step - loss: 0.4734 - accuracy: 0.7720 - val_loss: 0.4656 - val_accuracy: 0.7709\n",
            "Epoch 30/30\n",
            "234/234 [==============================] - 0s 2ms/step - loss: 0.4730 - accuracy: 0.7710 - val_loss: 0.4712 - val_accuracy: 0.7691\n"
          ]
        }
      ]
    },
    {
      "cell_type": "code",
      "source": [
        "metrics3 = pd.DataFrame(history3.history)\n",
        "metrics3[['loss', 'val_loss']].plot()"
      ],
      "metadata": {
        "id": "XdUGP3a8v569",
        "colab": {
          "base_uri": "https://localhost:8080/",
          "height": 282
        },
        "outputId": "4ca44444-c225-47a1-b2fd-ac64dab34930"
      },
      "execution_count": null,
      "outputs": [
        {
          "output_type": "execute_result",
          "data": {
            "text/plain": [
              "<matplotlib.axes._subplots.AxesSubplot at 0x7f4fe665cfd0>"
            ]
          },
          "metadata": {},
          "execution_count": 224
        },
        {
          "output_type": "display_data",
          "data": {
            "text/plain": [
              "<Figure size 432x288 with 1 Axes>"
            ],
            "image/png": "[encoded data removed]"
          },
          "metadata": {
            "needs_background": "light"
          }
        }
      ]
    },
    {
      "cell_type": "code",
      "source": [
        "y_pred3 = model3.predict(X_test_final)\n",
        "y_pred3 = np.where(y_pred3 >= 0.5, 1, 0)\n",
        "print('Accuracy - Train Set  : ', accuracy_score(y_test, y_pred3), '\\n')\n",
        "print('Classification Report : \\n', classification_report(y_test, y_pred3), '\\n')"
      ],
      "metadata": {
        "id": "W03Xf-xAzH2C",
        "colab": {
          "base_uri": "https://localhost:8080/"
        },
        "outputId": "835903ac-77de-4bdf-a3d4-f2ec6b91601a"
      },
      "execution_count": null,
      "outputs": [
        {
          "output_type": "stream",
          "name": "stdout",
          "text": [
            "Accuracy - Train Set  :  0.7299218194740583 \n",
            "\n",
            "Classification Report : \n",
            "               precision    recall  f1-score   support\n",
            "\n",
            "           0       0.90      0.72      0.80      1036\n",
            "           1       0.49      0.77      0.60       371\n",
            "\n",
            "    accuracy                           0.73      1407\n",
            "   macro avg       0.69      0.74      0.70      1407\n",
            "weighted avg       0.79      0.73      0.74      1407\n",
            " \n",
            "\n"
          ]
        }
      ]
    },
    {
      "cell_type": "markdown",
      "source": [
        "# 11. Model Saving"
      ],
      "metadata": {
        "id": "7r9oARUA3IuM"
      }
    },
    {
      "cell_type": "markdown",
      "source": [
        "#### 11.1 Pipeline preprocessing"
      ],
      "metadata": {
        "id": "ZWYJGBi74N0o"
      }
    },
    {
      "cell_type": "code",
      "source": [
        "num_pipeline = make_pipeline(StandardScaler())\n",
        "cat_pipeline = make_pipeline(OneHotEncoder())\n",
        "\n",
        "data_pipeline = ColumnTransformer([\n",
        "    ('pipe_num', num_pipeline, num_columns_select),\n",
        "    ('pipe_cat', cat_pipeline, cat_columns_select)])"
      ],
      "metadata": {
        "id": "zO0vAEWM3OI-"
      },
      "execution_count": null,
      "outputs": []
    },
    {
      "cell_type": "markdown",
      "source": [
        "#### 11.2 Saving pipeline preprocessing"
      ],
      "metadata": {
        "id": "UOgpEnDdJcnn"
      }
    },
    {
      "cell_type": "code",
      "source": [
        "with open('Churn_pre.pkl','wb') as f:\n",
        "    pickle.dump(data_pipeline, f)"
      ],
      "metadata": {
        "id": "AOQI3jLCJXOf"
      },
      "execution_count": null,
      "outputs": []
    },
    {
      "cell_type": "markdown",
      "source": [
        "#### 11.3 Saving Model"
      ],
      "metadata": {
        "id": "bne7w7vVLGmI"
      }
    },
    {
      "cell_type": "code",
      "source": [
        "model2.save(\"nn_Telco_Cus.h5\")"
      ],
      "metadata": {
        "id": "6CZVeWPDLUmA"
      },
      "execution_count": null,
      "outputs": []
    },
    {
      "cell_type": "markdown",
      "source": [
        "# 12. Model Inference"
      ],
      "metadata": {
        "id": "ToJ9uIL-qfUi"
      }
    },
    {
      "cell_type": "markdown",
      "source": [
        "> Model yang sudah dilatih akan dicoba pada data yang bukan termasuk ke dalam train-set ataupun test-set. Data ini harus dalam format yang asli, bukan data yang sudah di-scaled."
      ],
      "metadata": {
        "id": "qmuzwgc8qlCJ"
      }
    },
    {
      "cell_type": "code",
      "source": [
        "# feature encoding to Churn column\n",
        "enc = LabelEncoder()\n",
        "Churn_inf = enc.fit_transform(df_inf['Churn'])\n",
        "\n",
        "Churn_inf = pd.DataFrame(Churn_inf, columns=['Churn-enc'])\n",
        "df_inf = df_inf.drop(columns=['Churn'])\n",
        "df_inf = pd.concat([df_inf, Churn_inf], axis=1)\n",
        "\n",
        "# Split between X (features) and y (target)\n",
        "\n",
        "X_inf = df_inf.drop('Churn-enc', axis=1)\n",
        "y_inf = df_inf['Churn-enc']"
      ],
      "metadata": {
        "id": "FyfeS_vrOmwl"
      },
      "execution_count": null,
      "outputs": []
    },
    {
      "cell_type": "code",
      "source": [
        "final_inf = data_pipeline.fit_transform (X_inf)\n",
        "final_inf.shape"
      ],
      "metadata": {
        "id": "8kEEIJRuQtyx",
        "colab": {
          "base_uri": "https://localhost:8080/"
        },
        "outputId": "7fc80648-137c-4ddb-8608-1374d8d7b933"
      },
      "execution_count": null,
      "outputs": [
        {
          "output_type": "execute_result",
          "data": {
            "text/plain": [
              "(10, 24)"
            ]
          },
          "metadata": {},
          "execution_count": 230
        }
      ]
    },
    {
      "cell_type": "code",
      "source": [
        "y_pred_inf = model2.predict(final_inf)\n",
        "y_pred_inf = np.where(y_pred_inf >= 0.5, 1, 0)\n",
        "print('Accuracy - Train Set  : ', accuracy_score(y_inf, y_pred_inf), '\\n')\n",
        "print('Classification Report : \\n', classification_report(y_inf, y_pred_inf), '\\n')"
      ],
      "metadata": {
        "id": "0_Hft-AIRldX",
        "colab": {
          "base_uri": "https://localhost:8080/"
        },
        "outputId": "b050b2a0-0a41-452a-b379-a951232a7d2a"
      },
      "execution_count": null,
      "outputs": [
        {
          "output_type": "stream",
          "name": "stdout",
          "text": [
            "Accuracy - Train Set  :  0.8 \n",
            "\n",
            "Classification Report : \n",
            "               precision    recall  f1-score   support\n",
            "\n",
            "           0       0.83      0.83      0.83         6\n",
            "           1       0.75      0.75      0.75         4\n",
            "\n",
            "    accuracy                           0.80        10\n",
            "   macro avg       0.79      0.79      0.79        10\n",
            "weighted avg       0.80      0.80      0.80        10\n",
            " \n",
            "\n"
          ]
        }
      ]
    },
    {
      "cell_type": "markdown",
      "source": [
        "# 13. Pengambilan Kesimpulan"
      ],
      "metadata": {
        "id": "_r9f3NMMqoGS"
      }
    },
    {
      "cell_type": "markdown",
      "source": [
        "> Pada bagian terakhir ini, **harus berisi** kesimpulan yang mencerminkan hasil yang didapat dengan *objective* yang sudah ditulis di bagian pengenalan."
      ],
      "metadata": {
        "id": "wA5_CKToqskc"
      }
    },
    {
      "cell_type": "markdown",
      "source": [
        "#### Model Analysis"
      ],
      "metadata": {
        "id": "iWQcrDtfNK6f"
      }
    },
    {
      "cell_type": "markdown",
      "source": [
        "- dataset ini menggunakan model ANN Sequential dan Funtional API\n",
        "- memakai 2 hidden layer menggunakan activation function elu dan output layer menggunakan activation function menggunakan sigmoid\n",
        "- pada model sequential API terlihat pada diagram masih terjadi exploding gradient\n",
        "- untuk model funtional model terlihat lebih membaik dengan menggunakan drpo out\n",
        "- Melakukan model improvement pada model sequential dengan menggunakan batch normalization untuk mengurangi exploding gradient dan set epoch 30\n",
        "- hasil yang dikeluarkan dari model ini memiliki tingkat akurasi 75% terhadap Y_test\n",
        "- dilakukan 10 data inferenve dan melakukan prediksi dengan menggunakan model funtional\n",
        "- dari hasil prediksi model mendapatkan akurasi sebesar 80%"
      ],
      "metadata": {
        "id": "w0aMoDg5NOxY"
      }
    }
  ]
}